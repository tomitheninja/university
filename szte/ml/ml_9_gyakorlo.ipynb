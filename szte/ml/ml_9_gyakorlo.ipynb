{
  "nbformat": 4,
  "nbformat_minor": 0,
  "metadata": {
    "colab": {
      "provenance": [],
      "collapsed_sections": []
    },
    "kernelspec": {
      "name": "python3",
      "display_name": "Python 3"
    }
  },
  "cells": [
    {
      "cell_type": "code",
      "metadata": {
        "id": "zqzJzd7K_JcL"
      },
      "source": [
        "import pandas as pd\n",
        "df = pd.read_csv(\"https://archive.ics.uci.edu/ml/machine-learning-databases/wine-quality/winequality-white.csv\", sep=\";\") \n",
        "df"
      ],
      "execution_count": null,
      "outputs": []
    },
    {
      "cell_type": "code",
      "metadata": {
        "id": "50t9Udjv_TXf"
      },
      "source": [
        "df.quality.hist(bins=7)"
      ],
      "execution_count": null,
      "outputs": []
    },
    {
      "cell_type": "code",
      "metadata": {
        "id": "Sz7AJQjyeFko"
      },
      "source": [
        "labels = df.quality # regressziós célváltozó\n",
        "features = df.iloc[:,:-1] # jellemzőtér"
      ],
      "execution_count": null,
      "outputs": []
    },
    {
      "cell_type": "code",
      "metadata": {
        "id": "qROwF5lq_omr"
      },
      "source": [
        "from sklearn.model_selection import train_test_split\n",
        "t_features, test_features, t_labels, test_labels = train_test_split(features, labels, test_size=0.2, random_state=42) # kiértékelő adatbzásis levágása\n",
        "train_features, valid_features, train_labels, valid_labels = train_test_split(t_features, t_labels, test_size=0.2, random_state=42) # tanító és validációs halmazok leválasztása"
      ],
      "execution_count": null,
      "outputs": []
    },
    {
      "cell_type": "code",
      "metadata": {
        "id": "dLiTR-7kfnDe"
      },
      "source": [
        "# MSE-t használunk kiértékelési metrikaként\n",
        "from sklearn.metrics import mean_squared_error"
      ],
      "execution_count": null,
      "outputs": []
    },
    {
      "cell_type": "code",
      "metadata": {
        "id": "qmmFzhKDfDag"
      },
      "source": [
        "### döntési fa meta-paraméter hangolással\n",
        "from sklearn import tree\n",
        "for d in range(1,20):\n",
        "  dt = tree.DecisionTreeRegressor(max_depth=d) # döntési fa mélysége\n",
        "  dt.fit(train_features, train_labels)  # tanítunk a tanító adatbázison\n",
        "  prediction = dt.predict(valid_features)\n",
        "  print(d,\":\",mean_squared_error(prediction, valid_labels))"
      ],
      "execution_count": null,
      "outputs": []
    },
    {
      "cell_type": "markdown",
      "metadata": {
        "id": "hGL_84Lff_oK"
      },
      "source": [
        "5 mélységgel legkisebb a hiba"
      ]
    },
    {
      "cell_type": "code",
      "metadata": {
        "id": "DkXIt4XTgGPE"
      },
      "source": [
        "# az SGD nagyon érzékeny a jellemzők értékkészletének különbségeire (ebben a feladatban a jellemzők különböző skálán mozognak)\n",
        "# skálázzunk minden jellemzőt ugyanarra az intervallumra\n",
        "from sklearn.preprocessing import StandardScaler\n",
        "scaler = StandardScaler()\n",
        "scaled_train = scaler.fit_transform(train_features)\n",
        "scaled_valid = scaler.transform(valid_features)\n",
        "\n",
        "### Lineáris gép meta-paraméter hangolással\n",
        "from sklearn.linear_model import SGDRegressor\n",
        "for d in range(-15,3):\n",
        "  lin = SGDRegressor(alpha=10**d) # regularizációs együttható\n",
        "  lin.fit(scaled_train, train_labels) \n",
        "  prediction = lin.predict(scaled_valid)\n",
        "  print(d,\":\",mean_squared_error(prediction, valid_labels))"
      ],
      "execution_count": null,
      "outputs": []
    },
    {
      "cell_type": "markdown",
      "metadata": {
        "id": "jJ00J99gj3FS"
      },
      "source": [
        "Nem tud jobban, mint a döntési fa..."
      ]
    },
    {
      "cell_type": "code",
      "metadata": {
        "id": "UjTKB9Ozj2Ti"
      },
      "source": [
        "### kNN meta-paraméter hangolással\n",
        "from sklearn.neighbors import KNeighborsRegressor\n",
        "for k in range(1,50,2): # páratlan k értékek\n",
        "  knn = KNeighborsRegressor(n_neighbors=k) # kNN különböző k értékekkel\n",
        "  knn.fit(scaled_train, train_labels) \n",
        "  prediction = knn.predict(scaled_valid)\n",
        "  print(k,\":\",mean_squared_error(prediction, valid_labels))"
      ],
      "execution_count": null,
      "outputs": []
    },
    {
      "cell_type": "markdown",
      "metadata": {
        "id": "tiTrd103k2Bo"
      },
      "source": [
        "k=15-el a kNN a legjobb (skálázás nélkül is próbáld ki :D )"
      ]
    },
    {
      "cell_type": "markdown",
      "metadata": {
        "id": "K0wQIooAmAgz"
      },
      "source": [
        "## Végső kiértékelés a kiértékelő halmazon"
      ]
    },
    {
      "cell_type": "code",
      "metadata": {
        "id": "AkBvALGClJNA"
      },
      "source": [
        "### Teljes címkézett halmazt (train+valid) használhatjuk a végső kiértékeléshez\n",
        "scaler = StandardScaler()\n",
        "scaled_train = scaler.fit_transform(t_features)\n",
        "scaled_test  = scaler.transform(test_features)"
      ],
      "execution_count": null,
      "outputs": []
    },
    {
      "cell_type": "code",
      "metadata": {
        "id": "IBXUibecmEf1"
      },
      "source": [
        "# k=15 kNN a legjobb modellünk:\n",
        "knn = KNeighborsRegressor(n_neighbors=15)\n",
        "knn.fit(scaled_train, t_labels)\n",
        "prediction = knn.predict(scaled_test)\n",
        "mean_squared_error(prediction, test_labels)"
      ],
      "execution_count": null,
      "outputs": []
    },
    {
      "cell_type": "markdown",
      "metadata": {
        "id": "epatN92BmKys"
      },
      "source": [
        "Ne felejtsük el baseline-hoz hasonlítani!"
      ]
    },
    {
      "cell_type": "code",
      "metadata": {
        "id": "kQr7edq8mVby"
      },
      "source": [
        "from sklearn.dummy import DummyRegressor\n",
        "dummy = DummyRegressor(strategy='mean') # tanító adatbázis címkéinek átlaga lesz mindig a predikció\n",
        "dummy.fit(scaled_train, t_labels)\n",
        "mean_squared_error(dummy.predict(scaled_test), test_labels)"
      ],
      "execution_count": null,
      "outputs": []
    },
    {
      "cell_type": "markdown",
      "metadata": {
        "id": "v52eO4FwmnIy"
      },
      "source": [
        "A regresszorunk átlagos hibája jóval kisebb, mint a baseline-é!"
      ]
    }
  ]
}