{
  "nbformat": 4,
  "nbformat_minor": 0,
  "metadata": {
    "colab": {
      "provenance": [],
      "collapsed_sections": []
    },
    "kernelspec": {
      "name": "python3",
      "display_name": "Python 3"
    }
  },
  "cells": [
    {
      "cell_type": "markdown",
      "metadata": {
        "id": "ri9YzfKIYAz7"
      },
      "source": [
        "# Szöveges dokumentumok osztályozása\n",
        "Olvasd el a [szövegbányászat](https://inf.u-szeged.hu/~rfarkas/ML20/NLP.html) előadás olvasóleckét."
      ]
    },
    {
      "cell_type": "markdown",
      "metadata": {
        "id": "e2Xeb0VSGgoH"
      },
      "source": [
        "Építsünk egy osztályozó gépi tanuló algoritmust, amit tanítunk, majd képes lesz korábban nem látott szövegekről döntést hozni, hogy azok pozitív, negatív vagy semleges véleményt fejeznek-e ki!\n",
        "\n",
        "Töltsük le a tanító adatbázist:"
      ]
    },
    {
      "cell_type": "code",
      "metadata": {
        "id": "hXe8loreG2Fq",
        "colab": {
          "base_uri": "https://localhost:8080/",
          "height": 549
        },
        "outputId": "99bf110e-a83f-478a-ab61-3786f326a41f"
      },
      "source": [
        "import pandas as pd\n",
        "train_data = pd.read_csv('https://github.com/rfarkas/student_data/raw/main/sentiment/train.tsv')\n",
        "train_data"
      ],
      "execution_count": null,
      "outputs": [
        {
          "output_type": "error",
          "ename": "ParserError",
          "evalue": "ignored",
          "traceback": [
            "\u001b[0;31m---------------------------------------------------------------------------\u001b[0m",
            "\u001b[0;31mParserError\u001b[0m                               Traceback (most recent call last)",
            "\u001b[0;32m<ipython-input-1-7c1c8ec95868>\u001b[0m in \u001b[0;36m<module>\u001b[0;34m()\u001b[0m\n\u001b[1;32m      1\u001b[0m \u001b[0;32mimport\u001b[0m \u001b[0mpandas\u001b[0m \u001b[0;32mas\u001b[0m \u001b[0mpd\u001b[0m\u001b[0;34m\u001b[0m\u001b[0;34m\u001b[0m\u001b[0m\n\u001b[0;32m----> 2\u001b[0;31m \u001b[0mtrain_data\u001b[0m \u001b[0;34m=\u001b[0m \u001b[0mpd\u001b[0m\u001b[0;34m.\u001b[0m\u001b[0mread_csv\u001b[0m\u001b[0;34m(\u001b[0m\u001b[0;34m'https://github.com/rfarkas/student_data/raw/main/sentiment/train.tsv'\u001b[0m\u001b[0;34m)\u001b[0m\u001b[0;34m\u001b[0m\u001b[0;34m\u001b[0m\u001b[0m\n\u001b[0m\u001b[1;32m      3\u001b[0m \u001b[0mtrain_data\u001b[0m\u001b[0;34m\u001b[0m\u001b[0;34m\u001b[0m\u001b[0m\n",
            "\u001b[0;32m/usr/local/lib/python3.7/dist-packages/pandas/io/parsers.py\u001b[0m in \u001b[0;36mread_csv\u001b[0;34m(filepath_or_buffer, sep, delimiter, header, names, index_col, usecols, squeeze, prefix, mangle_dupe_cols, dtype, engine, converters, true_values, false_values, skipinitialspace, skiprows, skipfooter, nrows, na_values, keep_default_na, na_filter, verbose, skip_blank_lines, parse_dates, infer_datetime_format, keep_date_col, date_parser, dayfirst, cache_dates, iterator, chunksize, compression, thousands, decimal, lineterminator, quotechar, quoting, doublequote, escapechar, comment, encoding, dialect, error_bad_lines, warn_bad_lines, delim_whitespace, low_memory, memory_map, float_precision)\u001b[0m\n\u001b[1;32m    686\u001b[0m     )\n\u001b[1;32m    687\u001b[0m \u001b[0;34m\u001b[0m\u001b[0m\n\u001b[0;32m--> 688\u001b[0;31m     \u001b[0;32mreturn\u001b[0m \u001b[0m_read\u001b[0m\u001b[0;34m(\u001b[0m\u001b[0mfilepath_or_buffer\u001b[0m\u001b[0;34m,\u001b[0m \u001b[0mkwds\u001b[0m\u001b[0;34m)\u001b[0m\u001b[0;34m\u001b[0m\u001b[0;34m\u001b[0m\u001b[0m\n\u001b[0m\u001b[1;32m    689\u001b[0m \u001b[0;34m\u001b[0m\u001b[0m\n\u001b[1;32m    690\u001b[0m \u001b[0;34m\u001b[0m\u001b[0m\n",
            "\u001b[0;32m/usr/local/lib/python3.7/dist-packages/pandas/io/parsers.py\u001b[0m in \u001b[0;36m_read\u001b[0;34m(filepath_or_buffer, kwds)\u001b[0m\n\u001b[1;32m    458\u001b[0m \u001b[0;34m\u001b[0m\u001b[0m\n\u001b[1;32m    459\u001b[0m     \u001b[0;32mtry\u001b[0m\u001b[0;34m:\u001b[0m\u001b[0;34m\u001b[0m\u001b[0;34m\u001b[0m\u001b[0m\n\u001b[0;32m--> 460\u001b[0;31m         \u001b[0mdata\u001b[0m \u001b[0;34m=\u001b[0m \u001b[0mparser\u001b[0m\u001b[0;34m.\u001b[0m\u001b[0mread\u001b[0m\u001b[0;34m(\u001b[0m\u001b[0mnrows\u001b[0m\u001b[0;34m)\u001b[0m\u001b[0;34m\u001b[0m\u001b[0;34m\u001b[0m\u001b[0m\n\u001b[0m\u001b[1;32m    461\u001b[0m     \u001b[0;32mfinally\u001b[0m\u001b[0;34m:\u001b[0m\u001b[0;34m\u001b[0m\u001b[0;34m\u001b[0m\u001b[0m\n\u001b[1;32m    462\u001b[0m         \u001b[0mparser\u001b[0m\u001b[0;34m.\u001b[0m\u001b[0mclose\u001b[0m\u001b[0;34m(\u001b[0m\u001b[0;34m)\u001b[0m\u001b[0;34m\u001b[0m\u001b[0;34m\u001b[0m\u001b[0m\n",
            "\u001b[0;32m/usr/local/lib/python3.7/dist-packages/pandas/io/parsers.py\u001b[0m in \u001b[0;36mread\u001b[0;34m(self, nrows)\u001b[0m\n\u001b[1;32m   1196\u001b[0m     \u001b[0;32mdef\u001b[0m \u001b[0mread\u001b[0m\u001b[0;34m(\u001b[0m\u001b[0mself\u001b[0m\u001b[0;34m,\u001b[0m \u001b[0mnrows\u001b[0m\u001b[0;34m=\u001b[0m\u001b[0;32mNone\u001b[0m\u001b[0;34m)\u001b[0m\u001b[0;34m:\u001b[0m\u001b[0;34m\u001b[0m\u001b[0;34m\u001b[0m\u001b[0m\n\u001b[1;32m   1197\u001b[0m         \u001b[0mnrows\u001b[0m \u001b[0;34m=\u001b[0m \u001b[0m_validate_integer\u001b[0m\u001b[0;34m(\u001b[0m\u001b[0;34m\"nrows\"\u001b[0m\u001b[0;34m,\u001b[0m \u001b[0mnrows\u001b[0m\u001b[0;34m)\u001b[0m\u001b[0;34m\u001b[0m\u001b[0;34m\u001b[0m\u001b[0m\n\u001b[0;32m-> 1198\u001b[0;31m         \u001b[0mret\u001b[0m \u001b[0;34m=\u001b[0m \u001b[0mself\u001b[0m\u001b[0;34m.\u001b[0m\u001b[0m_engine\u001b[0m\u001b[0;34m.\u001b[0m\u001b[0mread\u001b[0m\u001b[0;34m(\u001b[0m\u001b[0mnrows\u001b[0m\u001b[0;34m)\u001b[0m\u001b[0;34m\u001b[0m\u001b[0;34m\u001b[0m\u001b[0m\n\u001b[0m\u001b[1;32m   1199\u001b[0m \u001b[0;34m\u001b[0m\u001b[0m\n\u001b[1;32m   1200\u001b[0m         \u001b[0;31m# May alter columns / col_dict\u001b[0m\u001b[0;34m\u001b[0m\u001b[0;34m\u001b[0m\u001b[0;34m\u001b[0m\u001b[0m\n",
            "\u001b[0;32m/usr/local/lib/python3.7/dist-packages/pandas/io/parsers.py\u001b[0m in \u001b[0;36mread\u001b[0;34m(self, nrows)\u001b[0m\n\u001b[1;32m   2155\u001b[0m     \u001b[0;32mdef\u001b[0m \u001b[0mread\u001b[0m\u001b[0;34m(\u001b[0m\u001b[0mself\u001b[0m\u001b[0;34m,\u001b[0m \u001b[0mnrows\u001b[0m\u001b[0;34m=\u001b[0m\u001b[0;32mNone\u001b[0m\u001b[0;34m)\u001b[0m\u001b[0;34m:\u001b[0m\u001b[0;34m\u001b[0m\u001b[0;34m\u001b[0m\u001b[0m\n\u001b[1;32m   2156\u001b[0m         \u001b[0;32mtry\u001b[0m\u001b[0;34m:\u001b[0m\u001b[0;34m\u001b[0m\u001b[0;34m\u001b[0m\u001b[0m\n\u001b[0;32m-> 2157\u001b[0;31m             \u001b[0mdata\u001b[0m \u001b[0;34m=\u001b[0m \u001b[0mself\u001b[0m\u001b[0;34m.\u001b[0m\u001b[0m_reader\u001b[0m\u001b[0;34m.\u001b[0m\u001b[0mread\u001b[0m\u001b[0;34m(\u001b[0m\u001b[0mnrows\u001b[0m\u001b[0;34m)\u001b[0m\u001b[0;34m\u001b[0m\u001b[0;34m\u001b[0m\u001b[0m\n\u001b[0m\u001b[1;32m   2158\u001b[0m         \u001b[0;32mexcept\u001b[0m \u001b[0mStopIteration\u001b[0m\u001b[0;34m:\u001b[0m\u001b[0;34m\u001b[0m\u001b[0;34m\u001b[0m\u001b[0m\n\u001b[1;32m   2159\u001b[0m             \u001b[0;32mif\u001b[0m \u001b[0mself\u001b[0m\u001b[0;34m.\u001b[0m\u001b[0m_first_chunk\u001b[0m\u001b[0;34m:\u001b[0m\u001b[0;34m\u001b[0m\u001b[0;34m\u001b[0m\u001b[0m\n",
            "\u001b[0;32mpandas/_libs/parsers.pyx\u001b[0m in \u001b[0;36mpandas._libs.parsers.TextReader.read\u001b[0;34m()\u001b[0m\n",
            "\u001b[0;32mpandas/_libs/parsers.pyx\u001b[0m in \u001b[0;36mpandas._libs.parsers.TextReader._read_low_memory\u001b[0;34m()\u001b[0m\n",
            "\u001b[0;32mpandas/_libs/parsers.pyx\u001b[0m in \u001b[0;36mpandas._libs.parsers.TextReader._read_rows\u001b[0;34m()\u001b[0m\n",
            "\u001b[0;32mpandas/_libs/parsers.pyx\u001b[0m in \u001b[0;36mpandas._libs.parsers.TextReader._tokenize_rows\u001b[0;34m()\u001b[0m\n",
            "\u001b[0;32mpandas/_libs/parsers.pyx\u001b[0m in \u001b[0;36mpandas._libs.parsers.raise_parser_error\u001b[0;34m()\u001b[0m\n",
            "\u001b[0;31mParserError\u001b[0m: Error tokenizing data. C error: Expected 2 fields in line 10, saw 4\n"
          ]
        }
      ]
    },
    {
      "cell_type": "markdown",
      "metadata": {
        "id": "rSF13rEOOMkQ"
      },
      "source": [
        "Hibaüzent :( Mi a hiba?\n",
        "\n",
        "Ha a fájlt megnyitjuk akokr látjuk, hogy 3 oszlopot tartalmaz tabbal elválasztva (ezért tsv a kiterjesztés). A pandas.read_csv alapesetben vesszővel elválasztva várja a mezőket.\n",
        "\n",
        "'Expected 2 fields in line 10, saw 4' Az első sor alapján a read_csv úgy gondolta, hogy két oszlop lesz, de a 10. sorban 4 oszlopot talált mert ott vesszők szerepeltek a szövegben...\n",
        "\n",
        "**Érdemes rápillantani egy input filera mielőtt feldolgozni kezdjük!** "
      ]
    },
    {
      "cell_type": "code",
      "metadata": {
        "id": "zefq3cRBG5uP"
      },
      "source": [
        "# ha a read_csv-nek megadjuk, hogy tab a separator akkor minden helyesen működik\n",
        "train_data = pd.read_csv('https://github.com/rfarkas/student_data/raw/main/sentiment/train.tsv', sep='\\t')\n",
        "train_data"
      ],
      "execution_count": null,
      "outputs": []
    },
    {
      "cell_type": "markdown",
      "metadata": {
        "id": "JsG8pHNERI-F"
      },
      "source": [
        "Értsük meg mi van az adatbázisban! Például milyen címkék (label) találhatóak benne?"
      ]
    },
    {
      "cell_type": "code",
      "metadata": {
        "id": "A56Kn0HdICb9",
        "colab": {
          "base_uri": "https://localhost:8080/",
          "height": 284
        },
        "outputId": "fcb43ec0-a8a8-4dbf-f1b5-6479de9b6de6"
      },
      "source": [
        "train_data.label.hist()"
      ],
      "execution_count": null,
      "outputs": [
        {
          "output_type": "execute_result",
          "data": {
            "text/plain": [
              "<matplotlib.axes._subplots.AxesSubplot at 0x7fb5e55d2bd0>"
            ]
          },
          "metadata": {},
          "execution_count": 3
        },
        {
          "output_type": "display_data",
          "data": {
            "image/png": "[encoded data removed]",
            "text/plain": [
              "<Figure size 432x288 with 1 Axes>"
            ]
          },
          "metadata": {
            "needs_background": "light"
          }
        }
      ]
    },
    {
      "cell_type": "markdown",
      "metadata": {
        "id": "2B6sfsQq2JM6"
      },
      "source": [
        "## Szózsák jellemzőtér\n",
        "\n",
        "A dokumentumok lesznek a gépi tanulásban az egyedek. A legegyszerűbb jellemzőkészket amivel reprezentálni lehet egy dokumentumot az az egyes dokumentumban előforduló szavak gyakorisága. Minden az adatbázisban előforduló szóra felveszünk egy jellemzőt. Tfh az 'alma' szó szerepel a szótárunkban. Ekkor ha a dokumentumban kétszer fordul elő, akkor a jellemző értéke 2 lesz, ha pedig nem fordul elő akkor 0.\n",
        "\n",
        "Ezt **szózsák reprezentációnak**nek (bag-of-words) is hívják, mivel olyan mintha a szavakat beöntenénk egy zsákba, elveszik azok sorrendisége (pl. nem mindegy 'not' és 'good' szavak egymás után fordultak-e elő) és pozíciója. De első gépi tanulási kísérletre pont jó :)\n",
        "\n",
        "Az `sklearn`ben a szózsákot a `CountVectorizer` jelemzőkinyerő implementálja. Ez leszámolja a dokumentumok szavait és azokat `sklearn` jellemzőkké (feature) alakítja. "
      ]
    },
    {
      "cell_type": "code",
      "metadata": {
        "id": "7qFWZYLKGjgg"
      },
      "source": [
        "from sklearn.feature_extraction.text import CountVectorizer\n",
        "vectorizer = CountVectorizer(min_df=10)"
      ],
      "execution_count": null,
      "outputs": []
    },
    {
      "cell_type": "code",
      "metadata": {
        "id": "nK-eL8RMUdhF",
        "colab": {
          "base_uri": "https://localhost:8080/"
        },
        "outputId": "07cd5c4b-547c-4e94-d626-bc92200734ea"
      },
      "source": [
        "# fit: összegyűjti a szótárat, azaz minden tokent ami legalább egyszer előfordul az adatbázisban\n",
        "vectorizer.fit(train_data.text)"
      ],
      "execution_count": null,
      "outputs": [
        {
          "output_type": "execute_result",
          "data": {
            "text/plain": [
              "CountVectorizer(analyzer='word', binary=False, decode_error='strict',\n",
              "                dtype=<class 'numpy.int64'>, encoding='utf-8', input='content',\n",
              "                lowercase=True, max_df=1.0, max_features=None, min_df=1,\n",
              "                ngram_range=(1, 1), preprocessor=None, stop_words=None,\n",
              "                strip_accents=None, token_pattern='(?u)\\\\b\\\\w\\\\w+\\\\b',\n",
              "                tokenizer=None, vocabulary=None)"
            ]
          },
          "metadata": {},
          "execution_count": 5
        }
      ]
    },
    {
      "cell_type": "code",
      "metadata": {
        "id": "NlECX8K2UoZa",
        "colab": {
          "base_uri": "https://localhost:8080/"
        },
        "outputId": "1dae0583-e145-4a82-fdd9-ad3554349c7f"
      },
      "source": [
        "len(vectorizer.get_feature_names())"
      ],
      "execution_count": null,
      "outputs": [
        {
          "output_type": "execute_result",
          "data": {
            "text/plain": [
              "24285"
            ]
          },
          "metadata": {},
          "execution_count": 8
        }
      ]
    },
    {
      "cell_type": "code",
      "metadata": {
        "id": "kaCX_5qoVoWj"
      },
      "source": [
        "vectorizer.vocabulary_ #ua, de itt a \"szótár\" a jellemzőtér"
      ],
      "execution_count": null,
      "outputs": []
    },
    {
      "cell_type": "code",
      "metadata": {
        "id": "1T2jaw6eYAH7",
        "colab": {
          "base_uri": "https://localhost:8080/"
        },
        "outputId": "d1d7033d-e8de-4c6c-96af-c8aff8cccb4c"
      },
      "source": [
        "# transform: végrehajtja a jellemzőkinyerést, azaz minden dokumentumhoz leszámolja minden szótárbeli szó gyakoriságát\n",
        "features = vectorizer.transform(train_data.text)\n",
        "features"
      ],
      "execution_count": null,
      "outputs": [
        {
          "output_type": "execute_result",
          "data": {
            "text/plain": [
              "<9063x24285 sparse matrix of type '<class 'numpy.int64'>'\n",
              "\twith 147011 stored elements in Compressed Sparse Row format>"
            ]
          },
          "metadata": {},
          "execution_count": 10
        }
      ]
    },
    {
      "cell_type": "markdown",
      "metadata": {
        "id": "Dxld_KigYNUC"
      },
      "source": [
        "A tanító adatbázisunk így 9063 egyedet tartalmaz (sorok) és 24285 jellemzőt (oszlopot). Azaz 24285 különböző token alkotja a szótárat. Mivel egy dokumentumban nagyon kevés szó fordul elő a 24285 szóból, ezért a jellemző mátrix túlnyomó része 0 lenne. Memória és futásidő okokból nem tároljuk az egész mátrixot hanem csak a nem 0 elemeket (azaz pozíció-érték párok listáját). Ezt hívjuk ritka (sparse) mátrixnak."
      ]
    },
    {
      "cell_type": "code",
      "metadata": {
        "id": "r_ib7EiYGuve",
        "colab": {
          "base_uri": "https://localhost:8080/"
        },
        "outputId": "6d2d4f35-6a4c-4359-b991-a189830a43b6"
      },
      "source": [
        "# fit_transform: a fit és transform egymás után futtatva\n",
        "features = vectorizer.fit_transform(train_data.text)\n",
        "features"
      ],
      "execution_count": null,
      "outputs": [
        {
          "output_type": "execute_result",
          "data": {
            "text/plain": [
              "<9063x1880 sparse matrix of type '<class 'numpy.int64'>'\n",
              "\twith 108862 stored elements in Compressed Sparse Row format>"
            ]
          },
          "metadata": {},
          "execution_count": 29
        }
      ]
    },
    {
      "cell_type": "markdown",
      "metadata": {
        "id": "D602ic3y2iMx"
      },
      "source": [
        "## Lineáris gépek\n",
        "\n",
        "**Tanítunk** egy ún. [lineáris gép osztályozó](https://inf.u-szeged.hu/~rfarkas/ML20/linearis_gep.html) modellt, a [stochastic gradient descend (SGD)](https://scikit-learn.org/stable/modules/generated/sklearn.linear_model.SGDClassifier.html). Itt az elöző órán megismert döntési fát nem szerencsés használni mert nagyon sok jellemzőnk van és azok között megtanulni a kapcsolatot nagyon sok idő. Ilyenkor [lineáris osztályozókat](https://scikit-learn.org/stable/modules/linear_model.html) (SGD mellett például Logisztikus Regresszió) érdemes használni vagy olyan döntési fa variánsokat amik sok jellemzőre lettek kitalálva (pl. [xgboost](https://xgboost.readthedocs.io/))."
      ]
    },
    {
      "cell_type": "code",
      "metadata": {
        "id": "pqjjGTs5G-AF"
      },
      "source": [
        "from sklearn.linear_model import SGDClassifier\n",
        "\n",
        "cls = SGDClassifier()\n",
        "\n",
        "# a features a tanító adatbázis egyedeinek jellemzőreprezentációja, ami ugyanolyan hosszú, mint a címkevektor (a célváltozó ami a tanító példa)\n",
        "model = cls.fit(features, train_data.label)\n",
        "# a model a betanított rendszer ami képes korábban nem látott egyedekre is predikálni"
      ],
      "execution_count": null,
      "outputs": []
    },
    {
      "cell_type": "code",
      "metadata": {
        "id": "Dp_zjvCKbVVP",
        "colab": {
          "base_uri": "https://localhost:8080/"
        },
        "outputId": "6db20d4c-0244-4d2d-ca8f-409d78658185"
      },
      "source": [
        "model.coef_"
      ],
      "execution_count": null,
      "outputs": [
        {
          "output_type": "execute_result",
          "data": {
            "text/plain": [
              "array([[-0.04225882,  0.25355291,  0.        , ...,  0.        ,\n",
              "         0.        ,  0.        ],\n",
              "       [-0.16927348, -0.4231837 , -0.25391022, ..., -0.11284899,\n",
              "        -0.11284899,  0.19748572],\n",
              "       [-0.02501432,  0.35020049,  0.15008592, ...,  0.1250716 ,\n",
              "         0.1250716 , -0.15008592]])"
            ]
          },
          "metadata": {},
          "execution_count": 14
        }
      ]
    },
    {
      "cell_type": "markdown",
      "metadata": {
        "id": "zU_drPTMeVdJ"
      },
      "source": [
        "Az egyes osztályok legerősebb jellemzői:"
      ]
    },
    {
      "cell_type": "code",
      "metadata": {
        "id": "eXAvVXNqdPZl"
      },
      "source": [
        "sorted(zip(model.coef_[0], vectorizer.get_feature_names()),reverse=True)[:15]"
      ],
      "execution_count": null,
      "outputs": []
    },
    {
      "cell_type": "markdown",
      "metadata": {
        "id": "oxY20CKMZDWl"
      },
      "source": [
        "**Értékeljük ki**, hogy milyen pontos modellt tanítottunk ezen az adatbázison!"
      ]
    },
    {
      "cell_type": "code",
      "metadata": {
        "id": "Qp6hlCx3HFM0"
      },
      "source": [
        "from sklearn.metrics import accuracy_score, classification_report"
      ],
      "execution_count": null,
      "outputs": []
    },
    {
      "cell_type": "code",
      "metadata": {
        "id": "QyZq5H8dHCG1",
        "colab": {
          "base_uri": "https://localhost:8080/"
        },
        "outputId": "40e3e875-27c6-4fca-c778-af0827e85d0a"
      },
      "source": [
        "prediction = model.predict(features)\n",
        "prediction # a predikció eredménye egy lista az egyedekre predikált címkékkel"
      ],
      "execution_count": null,
      "outputs": [
        {
          "output_type": "execute_result",
          "data": {
            "text/plain": [
              "array(['NEGATIVE', 'NEUTRAL', 'POSITIVE', ..., 'POSITIVE', 'NEGATIVE',\n",
              "       'NEUTRAL'], dtype='<U8')"
            ]
          },
          "metadata": {},
          "execution_count": 19
        }
      ]
    },
    {
      "cell_type": "markdown",
      "metadata": {
        "id": "Tk0tS1cGZq4m"
      },
      "source": [
        "Hasonlítsuk össze a predikált címkéket az adatbázisban szereplő helyes megoldásokkal! Az **accuracy** (pontosság) azt fejezi ki, hogy az esetek hány százalékában találta el a modell a helyes megoldást:"
      ]
    },
    {
      "cell_type": "code",
      "metadata": {
        "id": "A7NNvnICZSFy",
        "colab": {
          "base_uri": "https://localhost:8080/"
        },
        "outputId": "a4f4287a-e16c-434e-aed3-4f507f65c3b9"
      },
      "source": [
        "accuracy_score(y_true=train_data.label, y_pred=prediction)"
      ],
      "execution_count": null,
      "outputs": [
        {
          "output_type": "execute_result",
          "data": {
            "text/plain": [
              "0.9917245945051307"
            ]
          },
          "metadata": {},
          "execution_count": 20
        }
      ]
    },
    {
      "cell_type": "code",
      "metadata": {
        "id": "RbIUkSVTaU90",
        "colab": {
          "base_uri": "https://localhost:8080/"
        },
        "outputId": "8e006a82-a3bf-47e9-a7a1-d0954cf6469e"
      },
      "source": [
        "print(classification_report(y_true=train_data.label, y_pred=prediction))"
      ],
      "execution_count": null,
      "outputs": [
        {
          "output_type": "stream",
          "name": "stdout",
          "text": [
            "              precision    recall  f1-score   support\n",
            "\n",
            "    NEGATIVE       1.00      0.99      0.99      3021\n",
            "     NEUTRAL       0.99      0.99      0.99      3021\n",
            "    POSITIVE       0.99      0.99      0.99      3021\n",
            "\n",
            "    accuracy                           0.99      9063\n",
            "   macro avg       0.99      0.99      0.99      9063\n",
            "weighted avg       0.99      0.99      0.99      9063\n",
            "\n"
          ]
        }
      ]
    },
    {
      "cell_type": "markdown",
      "metadata": {
        "id": "djSJr4W5cbWE"
      },
      "source": [
        "Örülünk, hogy 99.1% accuracyt értünk el fentebb !?\n",
        "\n",
        "Nem. Még nem. \n",
        "\n",
        "Eddig a tanító adatbázison értékeltük ki a modellt, azaz azon amin tanítottuk. Így sérül az, hogy ismeretlen, korábban nem látott példákon kell jól működnie a modellnek. Az igazi kiértékelést egy olyan (hold-out) halmazon kell végrehajtani ami nem része a tanító adatbázisnak, ezt **kiértékelő adatbázis**nak hívjuk (evaluation vagy test set).\n",
        "\n",
        "Megjegyzés: a tanító adatbázison való kiértékelésnek is van haszna. Ha nagyon alacsony értékeket kapunk az azt jelenti, hogy vagy jellemzőkészlet amit kinyertünk nem tartalmaz a tanuláshoz elég információt vagy a gépi tanuló modellt rosszul választottuk meg."
      ]
    },
    {
      "cell_type": "code",
      "metadata": {
        "id": "V8A6vxVON1ZI"
      },
      "source": [
        "test_data = pd.read_csv('https://raw.githubusercontent.com/rfarkas/student_data/main/sentiment/test.tsv', sep='\\t')"
      ],
      "execution_count": null,
      "outputs": []
    },
    {
      "cell_type": "code",
      "metadata": {
        "id": "irwbCP17d0kO",
        "colab": {
          "base_uri": "https://localhost:8080/",
          "height": 364
        },
        "outputId": "b578eeb2-c5ee-435c-b18a-3c0d7e01d793"
      },
      "source": [
        "vectorizer2 = CountVectorizer()\n",
        "test_features = vectorizer2.fit_transform(test_data.text)\n",
        "prediction = model.predict(test_features)"
      ],
      "execution_count": null,
      "outputs": [
        {
          "output_type": "error",
          "ename": "ValueError",
          "evalue": "ignored",
          "traceback": [
            "\u001b[0;31m---------------------------------------------------------------------------\u001b[0m",
            "\u001b[0;31mValueError\u001b[0m                                Traceback (most recent call last)",
            "\u001b[0;32m<ipython-input-23-73ce07bf97b5>\u001b[0m in \u001b[0;36m<module>\u001b[0;34m()\u001b[0m\n\u001b[1;32m      1\u001b[0m \u001b[0mvectorizer2\u001b[0m \u001b[0;34m=\u001b[0m \u001b[0mCountVectorizer\u001b[0m\u001b[0;34m(\u001b[0m\u001b[0;34m)\u001b[0m\u001b[0;34m\u001b[0m\u001b[0;34m\u001b[0m\u001b[0m\n\u001b[1;32m      2\u001b[0m \u001b[0mtest_features\u001b[0m \u001b[0;34m=\u001b[0m \u001b[0mvectorizer2\u001b[0m\u001b[0;34m.\u001b[0m\u001b[0mfit_transform\u001b[0m\u001b[0;34m(\u001b[0m\u001b[0mtest_data\u001b[0m\u001b[0;34m.\u001b[0m\u001b[0mtext\u001b[0m\u001b[0;34m)\u001b[0m\u001b[0;34m\u001b[0m\u001b[0;34m\u001b[0m\u001b[0m\n\u001b[0;32m----> 3\u001b[0;31m \u001b[0mprediction\u001b[0m \u001b[0;34m=\u001b[0m \u001b[0mmodel\u001b[0m\u001b[0;34m.\u001b[0m\u001b[0mpredict\u001b[0m\u001b[0;34m(\u001b[0m\u001b[0mtest_features\u001b[0m\u001b[0;34m)\u001b[0m\u001b[0;34m\u001b[0m\u001b[0;34m\u001b[0m\u001b[0m\n\u001b[0m",
            "\u001b[0;32m/usr/local/lib/python3.7/dist-packages/sklearn/linear_model/_base.py\u001b[0m in \u001b[0;36mpredict\u001b[0;34m(self, X)\u001b[0m\n\u001b[1;32m    291\u001b[0m             \u001b[0mPredicted\u001b[0m \u001b[0;32mclass\u001b[0m \u001b[0mlabel\u001b[0m \u001b[0mper\u001b[0m \u001b[0msample\u001b[0m\u001b[0;34m.\u001b[0m\u001b[0;34m\u001b[0m\u001b[0;34m\u001b[0m\u001b[0m\n\u001b[1;32m    292\u001b[0m         \"\"\"\n\u001b[0;32m--> 293\u001b[0;31m         \u001b[0mscores\u001b[0m \u001b[0;34m=\u001b[0m \u001b[0mself\u001b[0m\u001b[0;34m.\u001b[0m\u001b[0mdecision_function\u001b[0m\u001b[0;34m(\u001b[0m\u001b[0mX\u001b[0m\u001b[0;34m)\u001b[0m\u001b[0;34m\u001b[0m\u001b[0;34m\u001b[0m\u001b[0m\n\u001b[0m\u001b[1;32m    294\u001b[0m         \u001b[0;32mif\u001b[0m \u001b[0mlen\u001b[0m\u001b[0;34m(\u001b[0m\u001b[0mscores\u001b[0m\u001b[0;34m.\u001b[0m\u001b[0mshape\u001b[0m\u001b[0;34m)\u001b[0m \u001b[0;34m==\u001b[0m \u001b[0;36m1\u001b[0m\u001b[0;34m:\u001b[0m\u001b[0;34m\u001b[0m\u001b[0;34m\u001b[0m\u001b[0m\n\u001b[1;32m    295\u001b[0m             \u001b[0mindices\u001b[0m \u001b[0;34m=\u001b[0m \u001b[0;34m(\u001b[0m\u001b[0mscores\u001b[0m \u001b[0;34m>\u001b[0m \u001b[0;36m0\u001b[0m\u001b[0;34m)\u001b[0m\u001b[0;34m.\u001b[0m\u001b[0mastype\u001b[0m\u001b[0;34m(\u001b[0m\u001b[0mnp\u001b[0m\u001b[0;34m.\u001b[0m\u001b[0mint\u001b[0m\u001b[0;34m)\u001b[0m\u001b[0;34m\u001b[0m\u001b[0;34m\u001b[0m\u001b[0m\n",
            "\u001b[0;32m/usr/local/lib/python3.7/dist-packages/sklearn/linear_model/_base.py\u001b[0m in \u001b[0;36mdecision_function\u001b[0;34m(self, X)\u001b[0m\n\u001b[1;32m    271\u001b[0m         \u001b[0;32mif\u001b[0m \u001b[0mX\u001b[0m\u001b[0;34m.\u001b[0m\u001b[0mshape\u001b[0m\u001b[0;34m[\u001b[0m\u001b[0;36m1\u001b[0m\u001b[0;34m]\u001b[0m \u001b[0;34m!=\u001b[0m \u001b[0mn_features\u001b[0m\u001b[0;34m:\u001b[0m\u001b[0;34m\u001b[0m\u001b[0;34m\u001b[0m\u001b[0m\n\u001b[1;32m    272\u001b[0m             raise ValueError(\"X has %d features per sample; expecting %d\"\n\u001b[0;32m--> 273\u001b[0;31m                              % (X.shape[1], n_features))\n\u001b[0m\u001b[1;32m    274\u001b[0m \u001b[0;34m\u001b[0m\u001b[0m\n\u001b[1;32m    275\u001b[0m         scores = safe_sparse_dot(X, self.coef_.T,\n",
            "\u001b[0;31mValueError\u001b[0m: X has 7271 features per sample; expecting 24285"
          ]
        }
      ]
    },
    {
      "cell_type": "markdown",
      "metadata": {
        "id": "AdI5kknoeJBo"
      },
      "source": [
        "Hibaüzenet :( Már megint...\n",
        "\n",
        "`'X has 7271 features per sample; expecting 24285'`\n",
        "\n",
        "Emlékezzünk vissza, hogy a `vectorizer.fit_transform` `fit`je először az adatbázisból elkészíti a szótárat (legalább egyszer előforduló szavak az egész adatbázisban). A test adatbázisban 7271 különböző szó fordult elő. Így a test adatbázis jellemzőkészlete (`test_features`) nem kompatibilis a `model` jellemzőkészletével ami 24285 dimenziós. Fontos, hogy a tanító adatbázison kialakított jellemzőkészletet használjuk a test adatbázison is!"
      ]
    },
    {
      "cell_type": "code",
      "metadata": {
        "id": "WTIk5RsOX2jf"
      },
      "source": [
        "test_features = vectorizer.transform(test_data.text) # a vectorizer a train-en fit-elt jellemzőkészletet tartalmazza, ezzel kell transform-álni a test nyers szövegeket\n",
        "prediction = model.predict(test_features)"
      ],
      "execution_count": null,
      "outputs": []
    },
    {
      "cell_type": "code",
      "metadata": {
        "id": "i_wzgUUWgEs9",
        "colab": {
          "base_uri": "https://localhost:8080/"
        },
        "outputId": "e5f9865f-f28b-4a88-91df-6593fc69e183"
      },
      "source": [
        "accuracy_score(y_true=test_data.label, y_pred=prediction)"
      ],
      "execution_count": null,
      "outputs": [
        {
          "output_type": "execute_result",
          "data": {
            "text/plain": [
              "0.7646666666666667"
            ]
          },
          "metadata": {},
          "execution_count": 25
        }
      ]
    },
    {
      "cell_type": "markdown",
      "metadata": {
        "id": "VkunSTuCgqsi"
      },
      "source": [
        "A legegyszerűbb predikciós szabály az, hogy mindig a leggyakoribb címkét \"predikáljuk\". Jelen esetben akkor az accuracy 0.333 lenne, úgyhogy kijelenthetjük, hogy a modell tanult valamit :) \n",
        "\n",
        "De azért a baseline-t mérjük ki hivatalosan is:"
      ]
    },
    {
      "cell_type": "code",
      "metadata": {
        "id": "q9XD4gvIXEJy",
        "colab": {
          "base_uri": "https://localhost:8080/"
        },
        "outputId": "937efd44-3c51-4a00-e1b2-ef6420765075"
      },
      "source": [
        "from sklearn.dummy import DummyClassifier\n",
        "\n",
        "dummy_clf = DummyClassifier(strategy=\"most_frequent\") # tanító adatbázis leggyakoribb osztálya lesz mindig a predikció\n",
        "dummy_clf.fit(features, train_data.label) # ugyanazon a tanító adatbázison \"tanítjuk\"\n",
        "baseline_prediction = dummy_clf.predict(test_features) # predikció a kiértékelő adatbázison\n",
        "accuracy_score(baseline_prediction, test_data.label)"
      ],
      "execution_count": null,
      "outputs": [
        {
          "output_type": "execute_result",
          "data": {
            "text/plain": [
              "0.3333333333333333"
            ]
          },
          "metadata": {},
          "execution_count": 26
        }
      ]
    },
    {
      "cell_type": "code",
      "metadata": {
        "id": "zdKx8pjNo20b",
        "colab": {
          "base_uri": "https://localhost:8080/"
        },
        "outputId": "4a0e24c5-af2d-47a2-c1a0-64e751001e15"
      },
      "source": [
        "## Az SGDClassifier-ben a loss és az alpha beállításával tudjuk elkerülni a túltanulást\n",
        "## Ezt hívjuk regularizációnak lineáris gépeknél\n",
        "cls = SGDClassifier(alpha=0.001)\n",
        "model = cls.fit(features, train_data.label)\n",
        "prediction = model.predict(test_features)\n",
        "accuracy_score(y_true=test_data.label, y_pred=prediction)"
      ],
      "execution_count": null,
      "outputs": [
        {
          "output_type": "execute_result",
          "data": {
            "text/plain": [
              "0.7853333333333333"
            ]
          },
          "metadata": {},
          "execution_count": 27
        }
      ]
    },
    {
      "cell_type": "code",
      "metadata": {
        "colab": {
          "base_uri": "https://localhost:8080/"
        },
        "id": "X17HSBF5Zb0G",
        "outputId": "03f52b54-5c6e-4abd-86eb-619c7d272817"
      },
      "source": [
        "from sklearn.tree import DecisionTreeClassifier\n",
        "cls = DecisionTreeClassifier()\n",
        "model = cls.fit(features, train_data.label)\n",
        "prediction = model.predict(test_features)\n",
        "accuracy_score(y_true=test_data.label, y_pred=prediction)"
      ],
      "execution_count": null,
      "outputs": [
        {
          "output_type": "execute_result",
          "data": {
            "text/plain": [
              "0.7513333333333333"
            ]
          },
          "metadata": {},
          "execution_count": 35
        }
      ]
    },
    {
      "cell_type": "markdown",
      "metadata": {
        "id": "JJIvdEjohmqI"
      },
      "source": [
        "## Tévesztési mátrix"
      ]
    },
    {
      "cell_type": "code",
      "metadata": {
        "id": "g-DqVQ_ZgVZy",
        "colab": {
          "base_uri": "https://localhost:8080/"
        },
        "outputId": "7fdfc25f-edad-47da-8d4b-29b57bd3dc0f"
      },
      "source": [
        "print(classification_report(y_true=test_data.label, y_pred=prediction))"
      ],
      "execution_count": null,
      "outputs": [
        {
          "output_type": "stream",
          "name": "stdout",
          "text": [
            "              precision    recall  f1-score   support\n",
            "\n",
            "    NEGATIVE       0.90      0.82      0.86       500\n",
            "     NEUTRAL       0.70      0.71      0.71       500\n",
            "    POSITIVE       0.68      0.72      0.70       500\n",
            "\n",
            "    accuracy                           0.75      1500\n",
            "   macro avg       0.76      0.75      0.75      1500\n",
            "weighted avg       0.76      0.75      0.75      1500\n",
            "\n"
          ]
        }
      ]
    },
    {
      "cell_type": "markdown",
      "metadata": {
        "id": "aS1MtekQg9WG"
      },
      "source": [
        "Látszik, hogy a negatív osztályt valamiért könnyebben megtanulja, mind a precision, mind a recall jobb ott, mint a másik két osztályon..."
      ]
    },
    {
      "cell_type": "code",
      "metadata": {
        "id": "UQFYKbzVYGiY",
        "colab": {
          "base_uri": "https://localhost:8080/"
        },
        "outputId": "e5b0a652-97af-49b0-a106-a05224ee8a91"
      },
      "source": [
        "from sklearn.metrics import confusion_matrix\n",
        "confusion_matrix(y_true=test_data.label, y_pred=prediction)"
      ],
      "execution_count": null,
      "outputs": [
        {
          "output_type": "execute_result",
          "data": {
            "text/plain": [
              "array([[411,  36,  53],\n",
              "       [ 24, 357, 119],\n",
              "       [ 24, 117, 359]])"
            ]
          },
          "metadata": {},
          "execution_count": 37
        }
      ]
    },
    {
      "cell_type": "code",
      "metadata": {
        "id": "li_n5A7bZFSl",
        "colab": {
          "base_uri": "https://localhost:8080/",
          "height": 298
        },
        "outputId": "5754dc6f-562a-43c1-fa92-ee82ee3cbcf8"
      },
      "source": [
        "from sklearn.metrics import ConfusionMatrixDisplay\n",
        "cm = confusion_matrix(y_true=test_data.label, y_pred=prediction)\n",
        "ConfusionMatrixDisplay(cm, display_labels=model.classes_).plot(values_format='.3g')"
      ],
      "execution_count": null,
      "outputs": [
        {
          "output_type": "execute_result",
          "data": {
            "text/plain": [
              "<sklearn.metrics._plot.confusion_matrix.ConfusionMatrixDisplay at 0x7fb5d3884f90>"
            ]
          },
          "metadata": {},
          "execution_count": 38
        },
        {
          "output_type": "display_data",
          "data": {
            "image/png": "[encoded data removed]",
            "text/plain": [
              "<Figure size 432x288 with 2 Axes>"
            ]
          },
          "metadata": {
            "needs_background": "light"
          }
        }
      ]
    },
    {
      "cell_type": "markdown",
      "metadata": {
        "id": "vXCQMyYHbFUr"
      },
      "source": [
        "A pozitív és semleges osztályokat valamiért sokszor összekeveri... Nézzünk rá példákat a tanító adatbázison!"
      ]
    },
    {
      "cell_type": "markdown",
      "metadata": {
        "id": "d2uti9Y4hIKb"
      },
      "source": [
        "# Modell javítása új jellemzőkészlettel"
      ]
    },
    {
      "cell_type": "markdown",
      "metadata": {
        "id": "oUNg3YOW2tJH"
      },
      "source": [
        "Ha a szavak mellett szópárok (bigram) is jellemzők lennének, több információt adunk át a modellnek. Így például a 'not good' megjelenik jellemzőként és esélyt adunk a modellnek, hogy összefüggést tanuljon rá."
      ]
    },
    {
      "cell_type": "code",
      "metadata": {
        "id": "zVRibkGVHNOz",
        "colab": {
          "base_uri": "https://localhost:8080/"
        },
        "outputId": "34ffa7a0-0e3b-4573-c433-7cb0f568c51b"
      },
      "source": [
        "# CountVectorizernek átparaméterezésével új jellemzőkinyerést valósítunk meg, minden más ugyanaz marad\n",
        "bigram_vectorizer = CountVectorizer(ngram_range=(1, 2), token_pattern=r'\\b\\w+\\b', min_df=1) \n",
        "# ngram_range mondja meg, hogy szavakat (unigram, 1gram) és egymás utáni szavakból álló párokat (bigram, 2gram) használjunk\n",
        "# min_df=2 eldobja azokat a szavakat amik kevesebb, mint 2 dokumentumban fordult elő. Nagyon sok bigram van, ezzel csökkentjük a jellemzőkészlet dimenziószámát\n",
        "# CountVectorizernek számos paramétere van, lásd: https://scikit-learn.org/stable/modules/generated/sklearn.feature_extraction.text.CountVectorizer.html\n",
        "\n",
        "features_bigram = bigram_vectorizer.fit_transform(train_data.text)\n",
        "\n",
        "cls = SGDClassifier() # új, üres osztályozó\n",
        "model_bigram = cls.fit(features_bigram, train_data.label)\n",
        "features_bigram"
      ],
      "execution_count": null,
      "outputs": [
        {
          "output_type": "execute_result",
          "data": {
            "text/plain": [
              "<9063x114650 sparse matrix of type '<class 'numpy.int64'>'\n",
              "\twith 312729 stored elements in Compressed Sparse Row format>"
            ]
          },
          "metadata": {},
          "execution_count": 40
        }
      ]
    },
    {
      "cell_type": "code",
      "metadata": {
        "id": "EmWh1vCXhT91"
      },
      "source": [
        "bigram_vectorizer.vocabulary_"
      ],
      "execution_count": null,
      "outputs": []
    },
    {
      "cell_type": "code",
      "metadata": {
        "id": "KeUqykC2HhAP"
      },
      "source": [
        "prediction_bigram = model_bigram.predict(bigram_vectorizer.transform(test_data.text))"
      ],
      "execution_count": null,
      "outputs": []
    },
    {
      "cell_type": "code",
      "metadata": {
        "id": "ElFRrdOHHlC3"
      },
      "source": [
        "print(accuracy_score(y_true=test_data.label, y_pred=prediction_bigram))\n",
        "print(classification_report(y_true=test_data.label, y_pred=prediction_bigram))"
      ],
      "execution_count": null,
      "outputs": []
    },
    {
      "cell_type": "markdown",
      "metadata": {
        "id": "ZJf00rXc24QM"
      },
      "source": [
        "Vannak olyan szavak amelyek sokszor fordulnak elő szövegekben, de szétválasztó erejük nincs, azaz ugyanúgy előfordulnak minden osztályban. Ilyenek például, sok más közt, a névelők. Ezek félreviszik az osztályozást (zajra tanulunk rá). A legegyszerűbb technika ennek kiküszöbölésére az ha a sima szógyakoriság (term frequency, TF) helyett normalizáljunk a szavak dokumentumok feletti gyakoriságávl (inverse document frequency, IDF). Lásd:  [TfIdf](http://www.tfidf.com)"
      ]
    },
    {
      "cell_type": "code",
      "metadata": {
        "id": "xAwnUHWGIOXK",
        "colab": {
          "base_uri": "https://localhost:8080/"
        },
        "outputId": "5a587ef5-5f78-4643-dd8c-b3fb615bfd2a"
      },
      "source": [
        "# TfidfTransformer is egy új ellemzőkinyersi mód, minden más változatlan\n",
        "from sklearn.feature_extraction.text import TfidfTransformer\n",
        "vectorizer = CountVectorizer()\n",
        "cv_counts = vectorizer.fit_transform(train_data.text)\n",
        "idf_transformer = TfidfTransformer(use_idf=True).fit(cv_counts)\n",
        "features_idf = idf_transformer.transform(cv_counts)\n",
        "features_idf"
      ],
      "execution_count": null,
      "outputs": [
        {
          "output_type": "execute_result",
          "data": {
            "text/plain": [
              "<9063x24285 sparse matrix of type '<class 'numpy.float64'>'\n",
              "\twith 147011 stored elements in Compressed Sparse Row format>"
            ]
          },
          "metadata": {},
          "execution_count": 45
        }
      ]
    },
    {
      "cell_type": "code",
      "metadata": {
        "id": "89WWM8TxMcKE"
      },
      "source": [
        "cls = SGDClassifier()\n",
        "model_idf = cls.fit(features_idf, train_data.label)"
      ],
      "execution_count": null,
      "outputs": []
    },
    {
      "cell_type": "code",
      "metadata": {
        "id": "MqPGSHXYM05i"
      },
      "source": [
        "prediction_idf = model_idf.predict(idf_transformer.transform(vectorizer.transform(test_data.text)))"
      ],
      "execution_count": null,
      "outputs": []
    },
    {
      "cell_type": "code",
      "metadata": {
        "id": "VBbSYmDuM7mn",
        "colab": {
          "base_uri": "https://localhost:8080/"
        },
        "outputId": "0e7c020f-f39f-461c-94bb-46cbc9cd085e"
      },
      "source": [
        "print(accuracy_score(y_true=test_data.label, y_pred=prediction_idf))\n",
        "print(classification_report(y_true=test_data.label, y_pred=prediction_idf))"
      ],
      "execution_count": null,
      "outputs": [
        {
          "output_type": "stream",
          "name": "stdout",
          "text": [
            "0.7906666666666666\n",
            "              precision    recall  f1-score   support\n",
            "\n",
            "    NEGATIVE       0.93      0.85      0.89       500\n",
            "     NEUTRAL       0.75      0.73      0.74       500\n",
            "    POSITIVE       0.71      0.79      0.75       500\n",
            "\n",
            "    accuracy                           0.79      1500\n",
            "   macro avg       0.80      0.79      0.79      1500\n",
            "weighted avg       0.80      0.79      0.79      1500\n",
            "\n"
          ]
        }
      ]
    },
    {
      "cell_type": "markdown",
      "metadata": {
        "id": "bB-vfm69jdHZ"
      },
      "source": [
        "Itt már kézzel fogható javulást tudtunk elérni."
      ]
    },
    {
      "cell_type": "markdown",
      "metadata": {
        "id": "fu0uY9rRhoza"
      },
      "source": [
        "# Model javítása előfeldolgozással"
      ]
    },
    {
      "cell_type": "code",
      "metadata": {
        "id": "3Kahmvrchse6"
      },
      "source": [
        "def preprocess(textcol):\n",
        "    return textcol.replace('\\d+', 'NUM',regex=True)"
      ],
      "execution_count": null,
      "outputs": []
    },
    {
      "cell_type": "code",
      "metadata": {
        "id": "ZcgcnsDNiZHv"
      },
      "source": [
        "train_data.text = preprocess(train_data.text)\n",
        "test_data.text  = preprocess(test_data.text)"
      ],
      "execution_count": null,
      "outputs": []
    },
    {
      "cell_type": "code",
      "metadata": {
        "id": "m6xfrRkKkdC3"
      },
      "source": [
        "train_data.text"
      ],
      "execution_count": null,
      "outputs": []
    },
    {
      "cell_type": "markdown",
      "metadata": {
        "id": "bDN511cLB_6O"
      },
      "source": [
        "Az [NLTK](https://www.nltk.org/) az egyik leggyakrabban használt python csomag szövegfeldolgozásban. A másik a [spaCy](https://spacy.io/). Kettejük egy összehasonlítása [itt](https://www.activestate.com/blog/natural-language-processing-nltk-vs-spacy/)"
      ]
    },
    {
      "cell_type": "code",
      "metadata": {
        "id": "gwDwysyN6lie"
      },
      "source": [
        "import nltk"
      ],
      "execution_count": null,
      "outputs": []
    },
    {
      "cell_type": "markdown",
      "metadata": {
        "id": "4Wz1PZopH8HO"
      },
      "source": [
        "Miért nem egyértelmű a tokenizálás? Miért léteznek különböző algoritmusok?\n",
        "\n",
        "Azért mert különböző nyelveken másképp lehetnek a szóhatárok (magyar \"-e\"), például rövidítést jelentő pont a token része (\"U.S.A.\" vagy \"kft.\"), míg mondatvégi a írásjel nem. Továbbá a szöveg típusa is megkövetelhet különböző tokenizálókat, pl. szociális médiában az emotikonok és URLeket egyben kell tartni de a camelcase szavakat (pl. JoMunkahozIdoKell) tokenizáljuk, kémiai szövegekben a kötőjel egy molekula nevében nem szóhatár, stb."
      ]
    },
    {
      "cell_type": "code",
      "metadata": {
        "id": "xRiQX0N17QDd"
      },
      "source": [
        "text = \"\"\"What can I say about this place. The staff of the restaurant is nice and the eggplant is not bad. Apart from that, very uninspired food, lack of atmosphere and too expensive. I am a staunch vegetarian and was sorely dissapointed with the veggie options on the menu. Will be the last time I visit, I recommend others to avoid.\"\"\"\n",
        "\n",
        "nltk_splitter = nltk.data.load('tokenizers/punkt/english.pickle') # Számos szöveget mondatra bontó algoritmus (splitter) van implementálva az NLTKban. A Punkt az egyik, ezt betöltjük. \n",
        "nltk_tokenizer = nltk.tokenize.TreebankWordTokenizer() # Számos szavakra (tokenekre) bontó algoritmus (tokenizer) is implementálva van.\n",
        "\n",
        "# text mondatai:\n",
        "sentences = nltk_splitter.tokenize(text)"
      ],
      "execution_count": null,
      "outputs": []
    },
    {
      "cell_type": "markdown",
      "metadata": {
        "id": "z1-E967iF56P"
      },
      "source": [
        "Sajnos ez így még nem működik. Az NLTK erőforrásfájlait külön le kell töltenünk a Colab-ba. Ha azok nincsenek ott hibaüzenettel elszállunk futtatás közben."
      ]
    },
    {
      "cell_type": "code",
      "metadata": {
        "id": "ZUgfAElXEdKl"
      },
      "source": [
        "nltk.download('punkt')\n",
        "nltk.download('averaged_perceptron_tagger')"
      ],
      "execution_count": null,
      "outputs": []
    },
    {
      "cell_type": "markdown",
      "metadata": {
        "id": "nkRYOBxUHCol"
      },
      "source": [
        "Most már működik! Futassuk újra a nltk_splitter inicializáló kódcellát!"
      ]
    },
    {
      "cell_type": "code",
      "metadata": {
        "id": "IjDK2aQtDjlr"
      },
      "source": [
        "sentences = nltk_splitter.tokenize(text) # a szöveget mondatokra bontjuk\n",
        "sentences # mondatokat tartalmazó lista"
      ],
      "execution_count": null,
      "outputs": []
    },
    {
      "cell_type": "code",
      "metadata": {
        "id": "xjcEAG1bHUQv"
      },
      "source": [
        "tokenized_sentences = [nltk_tokenizer.tokenize(sent) for sent in sentences] # a mondatokat bejárjuk a for ciklussal és egyessével tokenizáljuk őket\n",
        "tokenized_sentences # listák listája, amiben a mondatok szavai vannak"
      ],
      "execution_count": null,
      "outputs": []
    },
    {
      "cell_type": "markdown",
      "metadata": {
        "id": "_rnGjGntD14V"
      },
      "source": [
        "Egy másik fontos előfeldolgozási lépés a **szótövesítés (stemming, lemmatizáció)**. A cél, hogy a szavak különböző ragozott alakjait össze tudjuk vonni (pl. általában nem érdemes külön kezelni az 'asztalaitokra' és 'asztal' szóalakokat). A lemmatizáció az igazi nyelvtani értelemben vett szótő meghatározását jelenti. Ez nagyon bonyolult feladat tud lenni bizonyos nyelveken, pl. a magyarban ahol tőhangváltás is van (a 'madarak' szó szótöve a 'madár'). De sokszor elég a szótőnek egy \"közelítése\", azaz egyszerű szabályokkal lecseréljük a szóalak végi karaktereket más karakterre. Ezt a közelítő (butább, de sokkal egyszerűbb és gyorsabb) hívjuk stemmelésnek ([részletesen](https://www.datacamp.com/community/tutorials/stemming-lemmatization-python))"
      ]
    },
    {
      "cell_type": "code",
      "metadata": {
        "id": "paaVBVZcD5wN"
      },
      "source": [
        "from nltk.stem.wordnet import WordNetLemmatizer # egy angol igazi lemmatizáló\n",
        "nltk.download('wordnet') # erőforrást itt is le kell tölteni hozzá\n",
        "lemmatizer = WordNetLemmatizer() "
      ],
      "execution_count": null,
      "outputs": []
    },
    {
      "cell_type": "code",
      "metadata": {
        "id": "aLxaNRGlEREe"
      },
      "source": [
        "lemmatizer.lemmatize(\"companies\")"
      ],
      "execution_count": null,
      "outputs": []
    },
    {
      "cell_type": "code",
      "metadata": {
        "id": "nHEWwu8mF6aD"
      },
      "source": [
        "from nltk.stem import PorterStemmer # egy angol gyors stemmer (nincs erőforrásfájl, a szabályok a kódban vannk)\n",
        "stemmer = PorterStemmer()"
      ],
      "execution_count": null,
      "outputs": []
    },
    {
      "cell_type": "code",
      "metadata": {
        "id": "4oB5uZ-mGJyU"
      },
      "source": [
        "stemmer.stem(\"companies\") # 'es' végződés levágása sokszor működik többesszámú főneveknél. A 'companies' esetén \"buta\"."
      ],
      "execution_count": null,
      "outputs": []
    },
    {
      "cell_type": "markdown",
      "metadata": {
        "id": "SBHAiqDQoYfZ"
      },
      "source": [
        "# Gyakorló feladatok\n",
        "\n",
        "Az órai adatbázison hajts végre egy kísérletet (tanítás, predikció és kiértékelés) ahol\n",
        "\n",
        "*   a szavak szótövét vagy stemjét használjuk a szózsák modellben!\n",
        "*   egy másik lineáris gépet, a Logisztkus Regresszió osztályozó algoritmust használunk (Logistic Regression Classifier).\n",
        "\n",
        "Írd ki, hogy mekkora szótár lesz így illetve mennyi így az accuracy!"
      ]
    },
    {
      "cell_type": "markdown",
      "metadata": {
        "id": "s7frrQF2lqPM"
      },
      "source": [
        "---\n",
        "**Kitekintés:**\n",
        "Az elmúlt években a szózsák modellt felváltották a szóbeágyazás alapú reprezentációk, pl. [word2vec](https://www.kaggle.com/pierremegret/gensim-word2vec-tutorial) illetve a deep learning osztályozók, konvolúciós és rekurrens neurális hálózatok. És aki mindent visz 2019 óta az [BERT](https://towardsdatascience.com/nlp-extract-contextualized-word-embeddings-from-bert-keras-tf-67ef29f60a7b)...\n"
      ]
    }
  ]
}