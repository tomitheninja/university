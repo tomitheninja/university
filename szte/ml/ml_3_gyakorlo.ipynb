{
  "nbformat": 4,
  "nbformat_minor": 0,
  "metadata": {
    "colab": {
      "provenance": [],
      "collapsed_sections": [],
      "include_colab_link": true
    },
    "kernelspec": {
      "name": "python3",
      "display_name": "Python 3"
    }
  },
  "cells": [
    {
      "cell_type": "markdown",
      "metadata": {
        "id": "view-in-github",
        "colab_type": "text"
      },
      "source": [
        "<a href=\"https://colab.research.google.com/github/tomitheninja/university/blob/master/szte/ml/ml_3_gyakorlo.ipynb\" target=\"_parent\"><img src=\"https://colab.research.google.com/assets/colab-badge.svg\" alt=\"Open In Colab\"/></a>"
      ]
    },
    {
      "cell_type": "markdown",
      "metadata": {
        "id": "UQj80DVhpQkJ"
      },
      "source": [
        "# Gyakorló feladatok\n",
        "\n",
        "Ismerd meg az [UCI Post-Operative Patient](https://archive.ics.uci.edu/ml/datasets/Post-Operative+Patient) feladatát.\n",
        "\n",
        "Építs baseline megoldásokat az [osztályozási feladatra](https://archive.ics.uci.edu/ml/machine-learning-databases/postoperative-patient-data/post-operative.data) (utolsó, 9. változó a célváltozó)! Mi a legmagasabb accuracy, amit el tudtál érni?\n",
        "\n"
      ]
    },
    {
      "cell_type": "code",
      "metadata": {
        "id": "3AEuFnXhASUu"
      },
      "source": [
        "import pandas as pd\n",
        "d = pd.read_csv('https://archive.ics.uci.edu/ml/machine-learning-databases/postoperative-patient-data/post-operative.data', \n",
        "                header=None,\n",
        "                na_values='?') # A ? jelölöli a not available-t most, ezt is meg kell adnunk a read_csv-nek\n",
        "d"
      ],
      "execution_count": null,
      "outputs": []
    },
    {
      "cell_type": "code",
      "metadata": {
        "id": "gK2ge43OBl5T"
      },
      "source": [
        "#konstans baseline\n",
        "d[8].value_counts()"
      ],
      "execution_count": null,
      "outputs": []
    },
    {
      "cell_type": "code",
      "metadata": {
        "id": "AmGwfWEmCEQc"
      },
      "source": [
        "print(\"accuracy:\", d[8].value_counts()['A'] / len(d) )"
      ],
      "execution_count": null,
      "outputs": []
    },
    {
      "cell_type": "code",
      "metadata": {
        "id": "Xvnak-qYCzYR"
      },
      "source": [
        "# egy diszkrét jellemző alapján\n",
        "pd.crosstab(d[0],d[8])"
      ],
      "execution_count": null,
      "outputs": []
    },
    {
      "cell_type": "code",
      "metadata": {
        "id": "B8Pe_82XDEsT"
      },
      "source": [
        "pred = pd.Series(['A']*len(d)) # egy konstans 'A'-kat tartalamazó Series\n",
        "pred[d[0]=='low'] = 'S'\n",
        "pred[pred=='S']"
      ],
      "execution_count": null,
      "outputs": []
    },
    {
      "cell_type": "code",
      "metadata": {
        "id": "dWceVDIQEant"
      },
      "source": [
        "print(\"accuracy:\", (pred == d[8]).sum() / len(d))"
      ],
      "execution_count": null,
      "outputs": []
    },
    {
      "cell_type": "code",
      "metadata": {
        "id": "Ye9_08b-EqSY"
      },
      "source": [
        "# folytonos jellemző alapján\n",
        "d[7].hist(by=d[8])"
      ],
      "execution_count": null,
      "outputs": []
    },
    {
      "cell_type": "code",
      "metadata": {
        "id": "-mO2xGVMFSRG"
      },
      "source": [
        "pred = pd.Series(['A']*len(d))\n",
        "pred[d[7]<10] = 'S'\n",
        "print(\"accuracy:\", (pred == d[8]).sum() / len(d))"
      ],
      "execution_count": null,
      "outputs": []
    }
  ]
}