{
  "cells": [
    {
      "cell_type": "markdown",
      "metadata": {
        "id": "view-in-github",
        "colab_type": "text"
      },
      "source": [
        "<a href=\"https://colab.research.google.com/github/tomitheninja/university/blob/master/szte/ml/ml_1_python_intro.ipynb\" target=\"_parent\"><img src=\"https://colab.research.google.com/assets/colab-badge.svg\" alt=\"Open In Colab\"/></a>"
      ]
    },
    {
      "cell_type": "markdown",
      "metadata": {
        "id": "9I5g0tfyGaFB"
      },
      "source": [
        "# colab környezet\n",
        "\n",
        "A [Google Colaboratory](https://colab.research.google.com) egy felhő alapú szolgáltatás, amiben [jupyter notebookokat](https://jupyter-notebook.readthedocs.io/en/stable/) futtathatunk. A colabon a python környezet és gyakran használt csomagok telepítve vannak, nem kell ezzel bajlódnunk, továbbá a notebookok egy interaktív fejlesztőkörnyezetet is biztosítanak.\n",
        "\n",
        "Egy notebook cellákból épül fel. Egy 'cella' az egy futtatható kód- vagy szöveges blokk. A kód cellákat külön-külön is futtathatjuk, a 'Run cell' ikonnal vagy a SHIFT+ENTER billentyűkombinációval. A notebooknak mindig van egy állapota (változók értékei, betöltött könyvtárak stb). Egy kód cella futtatásakor ez az állapot megváltozik.\n",
        "\n",
        "Egy notebookon többen is dolgozhatnak ('share'), akár egyidőben is. A kurzus notebookjai csak olvasásra megosztottak. Érdemes egy másolatot készíteni belőlük, és azt futtatni, szerkeszteni, kísérletezni velük.\n",
        "\n",
        "Próbáld ki az auto suggestiont (kiegészítés) is!\n",
        "\n",
        "Have fun!\n"
      ]
    },
    {
      "cell_type": "markdown",
      "metadata": {
        "id": "trFIXED5OrML"
      },
      "source": [
        "# Python alapok\n",
        "\n",
        "A változók típusát nem kell megadnunk, az automatikusan kialakul:"
      ]
    },
    {
      "cell_type": "code",
      "execution_count": null,
      "metadata": {
        "id": "74jTOSLCQ8mP"
      },
      "outputs": [],
      "source": [
        "i=6\n",
        "# a hashmark utáni sorok kommentek\n",
        "i # egy kódcella utolsó utasítása ami egy változó értéke, az kiiratásra kerül a cella futtatásával"
      ]
    },
    {
      "cell_type": "code",
      "execution_count": null,
      "metadata": {
        "id": "0B-2nHXxTlpu"
      },
      "outputs": [],
      "source": [
        "i=i+1\n",
        "i"
      ]
    },
    {
      "cell_type": "markdown",
      "metadata": {
        "id": "OpQHLExrSA0Q"
      },
      "source": [
        "sőt dinamikusan változik:"
      ]
    },
    {
      "cell_type": "code",
      "execution_count": null,
      "metadata": {
        "id": "cZP7uYorSQHi"
      },
      "outputs": [],
      "source": [
        "i = \"valami\" # string változó\n",
        "i"
      ]
    },
    {
      "cell_type": "markdown",
      "metadata": {
        "id": "Am1p4BOCScRX"
      },
      "source": [
        "Természetesen a pythonban is minden változónak mindig van típusa, de az dinamikusan meg tud változni, ezzel sokat könnyítve a programozó munkáját."
      ]
    },
    {
      "cell_type": "code",
      "execution_count": null,
      "metadata": {
        "id": "H7dMO50lSbUX"
      },
      "outputs": [],
      "source": [
        "type(i) # x változó aktuális típusának lekérdezése"
      ]
    },
    {
      "cell_type": "code",
      "execution_count": null,
      "metadata": {
        "id": "o_GIoz_iR16n"
      },
      "outputs": [],
      "source": [
        "x=7\n",
        "y=2\n",
        "print(type(x))\n",
        "print(type(y))\n",
        "x/y # két egész szám (INTEGER) hányadosa lebegőpontos"
      ]
    },
    {
      "cell_type": "code",
      "execution_count": null,
      "metadata": {
        "id": "PkGGaLhyRvbC"
      },
      "outputs": [],
      "source": [
        "int(x/y) # a lebegőpontos eredményt egésszé így konvertáljuk"
      ]
    },
    {
      "cell_type": "code",
      "execution_count": null,
      "metadata": {
        "id": "C_HHpaIjT1Ro"
      },
      "outputs": [],
      "source": [
        "float(x%y) # % a maradékos osztás jele, eredménye egy egész szám, amelyet így tudunk lebegőpontássá alakítani"
      ]
    },
    {
      "cell_type": "code",
      "execution_count": null,
      "metadata": {
        "id": "7bAO9jVUEW9t"
      },
      "outputs": [],
      "source": [
        "print(x+y) # print() utasítással is tudunk az outputra írni (nem csak egyszer egy cellában)\n",
        "print(\"valami\")\n",
        "s = \"valami\"\n",
        "print(s)\n",
        "print(s, x) # print()-ben egyszerűen a vesszővel felsorolva egymás után fűzhetünk szövegeket (szóközzel)\n",
        "print(x,\"+\",y,\"=\",x+y)"
      ]
    },
    {
      "cell_type": "markdown",
      "metadata": {
        "id": "7K_E9nIeVeod"
      },
      "source": [
        "Futtasd le az alábbi cellát egymás után többször!"
      ]
    },
    {
      "cell_type": "code",
      "execution_count": null,
      "metadata": {
        "id": "goKJ1OSQVWRi"
      },
      "outputs": [],
      "source": [
        "x+=1\n",
        "x"
      ]
    },
    {
      "cell_type": "markdown",
      "metadata": {
        "id": "0xmos8ScLxdQ"
      },
      "source": [
        "Részletesebben python alapok:\n",
        "\n",
        "[python tutorial](https://docs.python.org/3/tutorial/introduction.html#using-python-as-a-calculator)\n",
        "\n",
        "[Google python bevezetője](https://developers.google.com/edu/python/introduction)\n",
        "\n",
        "\n",
        "# Stringek"
      ]
    },
    {
      "cell_type": "code",
      "execution_count": null,
      "metadata": {
        "id": "dtuxg-k7Ea9S"
      },
      "outputs": [],
      "source": [
        "xenia='ab\"c'\n",
        "z=\"d'e\" # macskaköröm és aposztróf is használható konstans stringek megadására\n",
        "zz = \"\"\"valmai\n",
        "1234\n",
        "kre\n",
        "\"\"\" # a \"\"\" esetén a sortörés is a konstans string része\n",
        "xenia+zz # stringek is működik a +, egymás után fűzést jelent"
      ]
    },
    {
      "cell_type": "code",
      "execution_count": null,
      "metadata": {
        "id": "1AIzYoUQZDl0"
      },
      "outputs": [],
      "source": [
        "xenia * 5"
      ]
    },
    {
      "cell_type": "code",
      "execution_count": null,
      "metadata": {
        "id": "SOl6YVI4Em0Q"
      },
      "outputs": [],
      "source": [
        "### a string osztálynak (igen a python is objektum orientált nyelv, csak próbálja titkolni :D) is van sok metódusa\n",
        "print(xenia.capitalize())\n",
        "len(xenia)"
      ]
    },
    {
      "cell_type": "code",
      "execution_count": null,
      "metadata": {
        "id": "MVkwb6KtV19r"
      },
      "outputs": [],
      "source": [
        "s = \"hosszabb string\"\n",
        "# Szögletes zárójellel tudunk szövegen belüli pozícióra hivatkozni.\n",
        "# 0-val kezdődik az indexelés\n",
        "print(s[1]) # második karakter\n",
        "# kettősponttal szövegrészletre (részstring) is hivatkozhatunk\n",
        "# a kezdő pozíció benne van az eredményben, a vég pozíció a rákövetkezőre mutat\n",
        "print(s[3:5]) # 3,4 indexen lévő karakterek (5 már nem)\n",
        "print(s[2:]) # ha a végindex üres azt jelenti, hogy a string végéig\n",
        "print(s[:5]) # illetve az elejétől\n",
        "# negatív index a végéről indexel\n",
        "print(s[-3]) # hátulról a harmadik karakter\n",
        "print(s[-3:]) # kezdő index legyen hátulról a harmadik, azaz az utolsó 3 karakter\n",
        "print(s[3:8:2]) #3-tól 8-ig indexen, minden második karakter\n",
        "print(s[8:3:-1]) #3-tól 8-ig megfordítva a string"
      ]
    },
    {
      "cell_type": "code",
      "execution_count": null,
      "metadata": {
        "id": "9G7I5VbisdkR"
      },
      "outputs": [],
      "source": [
        "s[1]='ó' #értékadás nem működik!"
      ]
    },
    {
      "cell_type": "markdown",
      "metadata": {
        "id": "sAs6sTubL9jo"
      },
      "source": [
        "# Listák\n",
        "A lista pythonban tetszőleges típusú elemek sorozata. Egy listán belül is szerepelhetnek különböző típusú elemek.\n"
      ]
    },
    {
      "cell_type": "code",
      "execution_count": null,
      "metadata": {
        "id": "XXvMmPJ0YoPZ"
      },
      "outputs": [],
      "source": [
        "l=[1,2,3,4,\"valami\"]\n",
        "len(l) #lista hossza"
      ]
    },
    {
      "cell_type": "code",
      "execution_count": null,
      "metadata": {
        "id": "39G-Zq49dkuK"
      },
      "outputs": [],
      "source": [
        "print( l[-1:] )"
      ]
    },
    {
      "cell_type": "code",
      "execution_count": null,
      "metadata": {
        "id": "QrKGT6PHHqSX"
      },
      "outputs": [],
      "source": [
        "print(l[1:3]) #részlisták lekérdezése ugyanúgy, mint stringeknél\n",
        "print(l[-2:])\n",
        "l[1]=\"korte\" #listáknál az értékadás is működik\n",
        "print(l) \n",
        "l[1:3]=[7,8] #sőt egy részlistának is állíthatjuk az értékét (azaz cseréje egy listával)\n",
        "print(l)\n",
        "l[1:3]=[] #...vagy egy üres listával (azaz töröljük)\n",
        "print(l)\n",
        "l.append(\"birs\") # gyakran használjuk még az append()-et ami a lista végéhez hozzáfűz egy elemet\n",
        "print(l)"
      ]
    },
    {
      "cell_type": "markdown",
      "metadata": {
        "id": "89FW9gyIZSaC"
      },
      "source": [
        "A listák nem numerikus vektorok!"
      ]
    },
    {
      "cell_type": "code",
      "execution_count": null,
      "metadata": {
        "id": "rVZEqz8zZIb6"
      },
      "outputs": [],
      "source": [
        "print([1,2,3] + [3,2,1]) # + itt is egymásután fűzést jelent\n",
        "print([1,2,3] * 3) #  a skalárral szorzás önmagunkának többszöri egymásután fűzése.\n",
        "[1,2,3] * [3,2,1] # két lista szorzata nem értelmezett!"
      ]
    },
    {
      "cell_type": "code",
      "execution_count": null,
      "metadata": {
        "id": "cvGoPad4aeIu"
      },
      "outputs": [],
      "source": [
        "l=[1,2,'a','szavacska',2.0] #különböző típusok szerepelhetnek a listában\n",
        "l[2]=3 # természetesen ha egy lista egy elemének értéket adunk, akkor annak típusa változhat\n",
        "l"
      ]
    },
    {
      "cell_type": "code",
      "execution_count": null,
      "metadata": {
        "id": "33OA3QRraxHV"
      },
      "outputs": [],
      "source": [
        "l=[[1,2,'a'],['bb','cc'],33] # sőt listák is lehetnek listaelemek (nested)\n",
        "print(l[1])\n",
        "print(l[1][1])"
      ]
    },
    {
      "cell_type": "code",
      "execution_count": null,
      "metadata": {
        "id": "V9xKQoNqfi90"
      },
      "outputs": [],
      "source": [
        "len(l)"
      ]
    },
    {
      "cell_type": "code",
      "execution_count": null,
      "metadata": {
        "id": "JGRKCZi8zNph"
      },
      "outputs": [],
      "source": [
        "# Feladat: egy listában 10es számrendszerbeli elemek vannak, mi az eredeti integer?\n",
        "#az [4,3,2,1] bemenetre 1234 az elvárt kimenet"
      ]
    },
    {
      "cell_type": "code",
      "execution_count": null,
      "metadata": {
        "id": "bVBJ-i6DH2Mu"
      },
      "outputs": [],
      "source": [
        "2**3"
      ]
    },
    {
      "cell_type": "markdown",
      "metadata": {
        "id": "KiILQPGFhl5Z"
      },
      "source": [
        "rifarkas@gmail.com"
      ]
    },
    {
      "cell_type": "markdown",
      "metadata": {
        "id": "x8P2suAkMJIn"
      },
      "source": [
        "# Szótárak\n",
        "Más néven dictionary vagy asszociatív tömb.\n",
        "\n",
        "Kulcs-érték párokat tartalmaz. A kulcsok egyediek, egy érték többször is előfordulhat (több kulcshoz is tartozhat).\n"
      ]
    },
    {
      "cell_type": "code",
      "execution_count": null,
      "metadata": {
        "id": "J06nflVxaGXl"
      },
      "outputs": [],
      "source": [
        "d={} # üres szótár létrehozása\n",
        "d['pistike']=1234 # 'pistike' kulcsú elem értéke legyen 1234. Ha még nincs 'pistike' kulcs, akkor felveszi, ha már van, átírja az értékét\n",
        "\n",
        "# Kulcsok és értékek típusa is lehet vegyes\n",
        "d[987]='alma'\n",
        "# Most a d szótárban a 'pistike' és 987 két kulcs van egy int és egy string értékkel\n",
        "print(d)\n"
      ]
    },
    {
      "cell_type": "code",
      "execution_count": null,
      "metadata": {
        "id": "2CJqJCCPaYEn"
      },
      "outputs": [],
      "source": [
        "print(d[987])\n",
        "d[987]=1234 # egy meglévő kulcs értékének módosításakor változhat az érték típusa\n",
        "print(d)"
      ]
    },
    {
      "cell_type": "code",
      "execution_count": null,
      "metadata": {
        "id": "XgVcHUtqatmE"
      },
      "outputs": [],
      "source": [
        "d[123] #ha egy szótárban nem szereplő kulcsot akarunk lekérni, hibaüzenettel elszáll"
      ]
    },
    {
      "cell_type": "code",
      "execution_count": null,
      "metadata": {
        "id": "FcpL94uea_EE"
      },
      "outputs": [],
      "source": [
        "# in-el ellenőrízhető, hogy egy kulcs a szótárban van-e\n",
        "print(123 in d) \n",
        "print(987 in d)"
      ]
    },
    {
      "cell_type": "code",
      "execution_count": null,
      "metadata": {
        "id": "rgO78rFDajf-"
      },
      "outputs": [],
      "source": [
        "d={'körte':38, 'alma':12, 'barack':23} # szótár kontans kulcs-értékekkel feltöltve\n",
        "print(d.keys()) # kulcsok halmaza\n",
        "print(d.values()) # értékek halmaza\n",
        "print(d.items()) # kulcs-érték párok halmaza\n",
        "print(d.keys()[0]) # nincs sorrendiság szótárban! Ezért indexelni sincs értelme és nem is lehet!"
      ]
    },
    {
      "cell_type": "code",
      "execution_count": null,
      "metadata": {
        "id": "P4-TglXvbhWG"
      },
      "outputs": [],
      "source": [
        "print(list(d.keys())) # a kulcsok halmazát listává konvertálhatjuk. Figyelem! Az elemek sorrendje nem definiált, bármi lehet!\n",
        "print(sorted(d.keys())) # a halmaz elemeit rendezzük a sorted() függvénnyel, aminek eredménye egy lista"
      ]
    },
    {
      "cell_type": "code",
      "execution_count": null,
      "metadata": {
        "id": "z3_8ht4Ubg5E"
      },
      "outputs": [],
      "source": [
        "del d['körte'] # egy kulcs-érték páros törlése a szótárból\n",
        "print(d) \n",
        "d[\"körte\"]"
      ]
    },
    {
      "cell_type": "markdown",
      "metadata": {
        "id": "hzj-5Kggkt29"
      },
      "source": [
        "# Halmazok\n",
        "Ha csak értékek halmzát tároljuk akkor azt nagyon hasonlóan tehetjük meg a szótárhoz (hiszen a szótár kulcs-érték párosok halmaza).\n"
      ]
    },
    {
      "cell_type": "code",
      "execution_count": null,
      "metadata": {
        "id": "J6maISNzk8Ri"
      },
      "outputs": [],
      "source": [
        "hal = {\"piros\", \"kék\", 128} # halmaz konstans értékekkel\n",
        "print(\"kék\" in hal)\n",
        "hal.add(\"zöld\") # új elem felvétele\n",
        "print(hal)\n",
        "hal.remove(\"kék\") # elem törlése\n",
        "print(hal)"
      ]
    },
    {
      "cell_type": "code",
      "execution_count": null,
      "metadata": {
        "id": "KlxGU5YTlrME"
      },
      "outputs": [],
      "source": [
        "# működnek a halmazműveletek is\n",
        "hal2 = {\"fehér\", \"piros\"}\n",
        "hal.intersection(hal2) # metszet"
      ]
    },
    {
      "cell_type": "markdown",
      "metadata": {
        "id": "VWgdRPQudFVN"
      },
      "source": [
        "# Alap vezérlő műveletek\n",
        "Nincs sorvégi ;\n",
        "\n",
        "Az utasításblokkokat a sor eleji behúzás=spacek száma határozza meg"
      ]
    },
    {
      "cell_type": "code",
      "execution_count": null,
      "metadata": {
        "id": "wJrmYpujcL2C"
      },
      "outputs": [],
      "source": [
        "list = ['alma', 'körte', 'barack', 'dinnye']\n",
        "\n",
        "if 'balma' in list : # kettőspontot ne felejtsük el!\n",
        "      print('yepp')\n",
        "print('yfdfd')\n"
      ]
    },
    {
      "cell_type": "code",
      "execution_count": null,
      "metadata": {
        "id": "uvpHRuLYdqPj"
      },
      "outputs": [],
      "source": [
        "d={'alma':12, 'körte':38, 'barack':23}\n",
        "if 'alma' in d: print(d['alma'])"
      ]
    },
    {
      "cell_type": "code",
      "execution_count": null,
      "metadata": {
        "id": "mfoPR_WA5otW"
      },
      "outputs": [],
      "source": [
        "l = ['alma', 'körte', 'barack']\n",
        "x=15\n",
        "if ('dinnye' not in l or x<10) and x>10: #példa a feltételekben használható not, or, and operátorra\n",
        "  print('ok')\n",
        "if 10 < x < 20: # ez is sokat szépít a kódon\n",
        "  print('ott-ott')"
      ]
    },
    {
      "cell_type": "code",
      "execution_count": null,
      "metadata": {
        "id": "SfD2JkocdhPN"
      },
      "outputs": [],
      "source": [
        "sum = 0\n",
        "for i in d.values(): # foreach ciklus, a megadott kollekció minden elemére lefut\n",
        "  if i>20:\n",
        "    sum += i\n",
        "print(sum)"
      ]
    },
    {
      "cell_type": "markdown",
      "metadata": {
        "id": "4sAStndidTWm"
      },
      "source": [
        "Próbáld ki, hogy az előző cellában a print(sum)-ot először 2, majd 4 szóközzel bentebb húzod (indentálod). Mi lesz a kimenet? Miért?"
      ]
    },
    {
      "cell_type": "code",
      "execution_count": null,
      "metadata": {
        "id": "I37hMMwffV4g"
      },
      "outputs": [],
      "source": [
        "[i for i in d.values() if i>20] #lista generálása for ciklussal (a kimenet egy lista)"
      ]
    },
    {
      "cell_type": "code",
      "execution_count": null,
      "metadata": {
        "id": "a7sUt1EcfpHY"
      },
      "outputs": [],
      "source": [
        "# mivel csak foreach van pythonban, i megy 0-tól 10-ig típusú \"klasszikus\" for ciklus így készíthető\n",
        "for i in range(100): #a range() metódus egy listában visszaadja a kért értékeket, itt 2-től 10-ig minden második egész\n",
        "  print(i)"
      ]
    },
    {
      "cell_type": "code",
      "execution_count": null,
      "metadata": {
        "id": "XuzSfb5QgIJ-"
      },
      "outputs": [],
      "source": [
        "i=0\n",
        "while i < 10: # elöltesztelős ciklus\n",
        "  i+=4\n",
        "  print(i)"
      ]
    },
    {
      "cell_type": "code",
      "execution_count": null,
      "metadata": {
        "id": "pUeD9xhWmBS7"
      },
      "outputs": [],
      "source": [
        "# függvényt így definíálhatunk\n",
        "# a függvény argumentumainak típusát itt sem kell megadni!\n",
        "# az argumentumoknak megadhatunk default értéket is, ha a hívásnál nem adjuk meg az adott változó értékét, akkor az a default értéket veszi fel\n",
        "# először mindig a kötelező argumentumok (amiknek nincs default értéke), majd utána a nem kötelező változókat (amiknek van default értéke) adjuk meg\n",
        "# a függvény hatókörét itt is a behúzás adja meg\n",
        "# ha az utolsó utasítás return akkor van visszatérési érték, ha nincs akkor csak metódus 'None' visszatérési értékkel\n",
        "def sajatFgv(a,b=3): # 'a' kötelező argumentum, 'b' default értéke (azaz ha a hívó nem adja meg) 3\n",
        "  res = a*b # res lokális változó! csak a függvény a hatóköre\n",
        "  return res # fgv visszatérési értéke\n",
        "\n",
        "print(sajatFgv(b=2,a=5)) # 2*5=10\n",
        "print(sajatFgv(2)) # b felveszi a default 3 értéket, 2*3=6"
      ]
    },
    {
      "cell_type": "code",
      "execution_count": null,
      "metadata": {
        "colab": {
          "background_save": true
        },
        "id": "COJnjm_JqDoj"
      },
      "outputs": [],
      "source": [
        "sajatFgv()"
      ]
    },
    {
      "cell_type": "markdown",
      "metadata": {
        "id": "DAQ45MTfhx9Y"
      },
      "source": [
        "Ha még többet szeretnél tudni: [python control flows](https://docs.python.org/3/tutorial/controlflow.html)"
      ]
    },
    {
      "cell_type": "markdown",
      "metadata": {
        "id": "BNAIGTLj4mdp"
      },
      "source": [
        "# Rendezés"
      ]
    },
    {
      "cell_type": "code",
      "execution_count": null,
      "metadata": {
        "id": "VX1r3sSO4q_I"
      },
      "outputs": [],
      "source": [
        "l=['aa','c','bbb']\n",
        "print(sorted(l, key=len)) #sorted() visszatér az elemek egy rendezett új listájával (eredeti lista nem változik)\n",
        "print(l)\n",
        "print(l.sort()) #a list.sort() (át)rendezi a listát\n",
        "print(l)"
      ]
    },
    {
      "cell_type": "code",
      "execution_count": null,
      "metadata": {
        "id": "-rXS25cZ5L8X"
      },
      "outputs": [],
      "source": [
        "a=False #logikai változó konstans értékadással\n",
        "l.sort(reverse=True) #rendezés fordított sorrendben\n",
        "l"
      ]
    },
    {
      "cell_type": "markdown",
      "metadata": {
        "id": "cyzAKJejkb9n"
      },
      "source": [
        "# Gyakorló feladatok\n",
        "\n",
        "1. Csináld meg ezt a [quizt](https://pynative.com/basic-python-quiz-for-beginners/). Hány jó válaszod volt?\n",
        "\n",
        "2. Egy string 3 leggyakoribb szavának kilistázása\n"
      ]
    },
    {
      "cell_type": "code",
      "execution_count": null,
      "metadata": {
        "id": "WkRnWcomlMoF"
      },
      "outputs": [],
      "source": [
        "s = 'a a alma körte b b alma alma c d e f g haha haha'\n"
      ]
    },
    {
      "cell_type": "markdown",
      "metadata": {
        "id": "g9B-YBrpwtjm"
      },
      "source": [
        "*A tananyag az EFOP-3.4.3-16-2016-00014 pályázat támogatásával készült.* ![alt text](https://drive.google.com/uc?id=1cduvGLFXIqC3ffGKuPJJlNWFoO-C_ywh)\n"
      ]
    }
  ],
  "metadata": {
    "colab": {
      "collapsed_sections": [],
      "provenance": [],
      "include_colab_link": true
    },
    "kernelspec": {
      "display_name": "Python 3",
      "name": "python3"
    }
  },
  "nbformat": 4,
  "nbformat_minor": 0
}