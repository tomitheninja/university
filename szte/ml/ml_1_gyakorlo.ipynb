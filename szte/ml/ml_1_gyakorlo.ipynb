{
  "nbformat": 4,
  "nbformat_minor": 0,
  "metadata": {
    "colab": {
      "provenance": [],
      "collapsed_sections": []
    },
    "kernelspec": {
      "name": "python3",
      "display_name": "Python 3"
    }
  },
  "cells": [
    {
      "cell_type": "markdown",
      "metadata": {
        "id": "qr8tUFfohI3h"
      },
      "source": [
        "# Gyakorló feladatok megoldása\n",
        "\n",
        "Egy string 3 leggyakoribb szavának kilistázás"
      ]
    },
    {
      "cell_type": "code",
      "metadata": {
        "id": "WkRnWcomlMoF"
      },
      "source": [
        "s = 'a a alma körte b b alma alma c d e f g haha haha'\n",
        "f={}\n",
        "for w in s.split():\n",
        "  if w in f:\n",
        "    f[w] += 1\n",
        "  else:\n",
        "    f[w] = 1\n",
        "# az f szótárat érték szerint (key=f.get) rendezzük csökkenő sorrendbe (reversre=True)\n",
        "# majd kérem az eredmény lista első három elemét\n",
        "sorted(f, key=f.get, reverse=True)[:3] "
      ],
      "execution_count": null,
      "outputs": []
    },
    {
      "cell_type": "markdown",
      "metadata": {
        "id": "uzo7W4mEe6ou"
      },
      "source": [
        "Másik megoldás:"
      ]
    },
    {
      "cell_type": "code",
      "metadata": {
        "id": "nORBlVELlc6P"
      },
      "source": [
        "from collections import Counter #pythonban mindenre van külső csomag :)"
      ],
      "execution_count": null,
      "outputs": []
    },
    {
      "cell_type": "code",
      "metadata": {
        "id": "FluMknXWgU06"
      },
      "source": [
        "x = Counter(s.split())\n",
        "print(sorted(x, key=x.get, reverse=True)[:5])\n"
      ],
      "execution_count": null,
      "outputs": []
    }
  ]
}