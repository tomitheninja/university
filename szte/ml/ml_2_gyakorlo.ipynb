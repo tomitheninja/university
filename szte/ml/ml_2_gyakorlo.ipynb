{
  "nbformat": 4,
  "nbformat_minor": 0,
  "metadata": {
    "colab": {
      "provenance": [],
      "collapsed_sections": []
    },
    "kernelspec": {
      "name": "python3",
      "display_name": "Python 3"
    }
  },
  "cells": [
    {
      "cell_type": "markdown",
      "metadata": {
        "id": "czgB2_v7nVHk"
      },
      "source": [
        "# Gyakorló feladatok\n",
        "1. Dohányzik a két legidősebb ember?\n"
      ]
    },
    {
      "cell_type": "code",
      "metadata": {
        "id": "Ju_raNjb4HJ0"
      },
      "source": [
        "# adattábla betöltése\n",
        "import pandas as pd\n",
        "df = pd.read_csv(\"https://raw.github.com/vincentarelbundock/Rdatasets/master/csv/MASS/survey.csv\")"
      ],
      "execution_count": null,
      "outputs": []
    },
    {
      "cell_type": "code",
      "metadata": {
        "id": "i1EazK30nm2u"
      },
      "source": [
        "# 3 legidősebb ember életkora\n",
        "sorted(df.Age)[-3:] # az Age oszlopot sorba rendezzük (eredménye lista), és kérem a 3 utolsó elemet"
      ],
      "execution_count": null,
      "outputs": []
    },
    {
      "cell_type": "code",
      "metadata": {
        "id": "KYAcM7aOntHW"
      },
      "source": [
        "# a két legidősebb ember 70 év feletti, kérem az ő dohányzási változójukat\n",
        "df.loc[df.Age>70,'Smoke']"
      ],
      "execution_count": null,
      "outputs": []
    },
    {
      "cell_type": "markdown",
      "metadata": {
        "id": "Pq8RfJdiFaCm"
      },
      "source": [
        "Ez a megoldási mód jól példázza az adatelemzés és szoftverfejlesztés közti különbséget. Két egyszerű, egymásra épülő lekérdezéssel meg tudtuk válaszolni a konkrét kérdést, nem fejlesztettünk általános szoftvert..."
      ]
    },
    {
      "cell_type": "markdown",
      "metadata": {
        "id": "fIDjzqOjEeLV"
      },
      "source": [
        "2. Mi az átlagos Wr.Hnd a férfiaknál?"
      ]
    },
    {
      "cell_type": "code",
      "metadata": {
        "id": "GbWo0q8ZoGMq"
      },
      "source": [
        "# Először leszűrjük a férfiak feltételes résztömbjét, majd kérjük annak Wr.Hnd oszlopát. Ennek a Series-nek számoljuk az átlagát.\n",
        "df[df.Sex=='Male']['Wr.Hnd'].mean()"
      ],
      "execution_count": null,
      "outputs": []
    }
  ]
}