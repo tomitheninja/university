{
  "nbformat": 4,
  "nbformat_minor": 0,
  "metadata": {
    "colab": {
      "provenance": [],
      "collapsed_sections": []
    },
    "kernelspec": {
      "name": "python3",
      "display_name": "Python 3"
    }
  },
  "cells": [
    {
      "cell_type": "markdown",
      "metadata": {
        "id": "i5v5R4idck0f"
      },
      "source": [
        "# Lokális képosztályozók \n",
        "\n",
        "Olvasd el az [elődás olvasóleckéjét](http://inf.u-szeged.hu/~rfarkas/ML20/image.html)!"
      ]
    },
    {
      "cell_type": "markdown",
      "metadata": {
        "id": "pOWImHZ0uI9H"
      },
      "source": [
        "## MNIST digits adatbázis\n",
        "\n",
        "A képosztályozási feladatnál az egyedek képek, melyeket előre definálit kategórák/osztályok közül az egyikbe kell besorolnunk. A híres [MNIST digits](https://www.kaggle.com/c/digit-recognizer) adatbázisban kézzel írt számjegyek szerepelnek (10 kategóriás osztályozási feladat)"
      ]
    },
    {
      "cell_type": "code",
      "metadata": {
        "id": "BeLt2A_qdmEW"
      },
      "source": [
        " from sklearn.datasets import load_digits\n",
        " digits = load_digits()\n",
        " digits"
      ],
      "execution_count": null,
      "outputs": []
    },
    {
      "cell_type": "markdown",
      "metadata": {
        "id": "GOirgfQAqSW8"
      },
      "source": [
        "Az MNIST digits adatbázs már nagyon szépen előfeldolgozott (egységes méret, nyújtás, színskála stb.) képeket tartalmaz:"
      ]
    },
    {
      "cell_type": "code",
      "metadata": {
        "id": "BQ6pzKLed-4t"
      },
      "source": [
        "print(digits.images.shape)\n",
        "print(digits.data.shape)"
      ],
      "execution_count": null,
      "outputs": []
    },
    {
      "cell_type": "code",
      "metadata": {
        "id": "Av0sAkoPeVpx"
      },
      "source": [
        "#ha meg akarjuk jeleníteni a képeket a notebookban\n",
        "import matplotlib.pyplot as plt\n",
        "plt.imshow(digits.images[0])"
      ],
      "execution_count": null,
      "outputs": []
    },
    {
      "cell_type": "code",
      "metadata": {
        "id": "3imZ9AcNfRZb"
      },
      "source": [
        "plt.imshow(digits.images[0], cmap=plt.cm.gray_r)"
      ],
      "execution_count": null,
      "outputs": []
    },
    {
      "cell_type": "code",
      "metadata": {
        "id": "kCwv3HFdX5y5"
      },
      "source": [
        "digits.target[0]"
      ],
      "execution_count": null,
      "outputs": []
    },
    {
      "cell_type": "code",
      "metadata": {
        "id": "KI17yTBWnnLS"
      },
      "source": [
        "import pandas as pd\n",
        "pd.value_counts(digits.target).sort_index()"
      ],
      "execution_count": null,
      "outputs": []
    },
    {
      "cell_type": "markdown",
      "metadata": {
        "id": "CPztJDbdnnLS"
      },
      "source": [
        "A legegyszerűbb jellemzőleírása képeknek, amikor az egyedeket leírjuk a pixeljeivel. Az MNIST digit adatbázisban a `data` vektor közvetlenül használható jellemzővektorként (a 64 pixel a 64 jellemző, a szürkeárnyalat intenzitás a jellemző értéke 0-255)"
      ]
    },
    {
      "cell_type": "code",
      "metadata": {
        "id": "sjOA7ivDpIIf"
      },
      "source": [
        "from sklearn.model_selection import train_test_split\n",
        "trainFeatures, testFeatures, trainLables, testLables = train_test_split(digits.data, \n",
        "                                                                        digits.target, \n",
        "                                                                        test_size=0.33, \n",
        "                                                                        random_state=42)"
      ],
      "execution_count": null,
      "outputs": []
    },
    {
      "cell_type": "markdown",
      "metadata": {
        "id": "1k2JLSyepIIY"
      },
      "source": [
        "Bármilyen osztályozó algoritmust használhatnánk, de most a kicsi tanító adatbázis, és azért mert a pixelek feletti hasonlósági metrika itt nagyon jó metrika, ezért használjuk a '**k legközelebbi szomszéd**' (k nearest neighboor, kNN) osztályozót ([lásd](http://inf.u-szeged.hu/~rfarkas/ML20/image.html))."
      ]
    },
    {
      "cell_type": "code",
      "metadata": {
        "id": "SC6yXChBpIIf"
      },
      "source": [
        "from sklearn.neighbors import KNeighborsClassifier\n",
        "model = KNeighborsClassifier(n_neighbors=15) # n_neighbors a k érték (szomszédok száma)\n"
      ],
      "execution_count": null,
      "outputs": []
    },
    {
      "cell_type": "code",
      "metadata": {
        "id": "P5TOuJHxl61b"
      },
      "source": [
        "from sklearn.linear_model import SGDClassifier\n",
        "model = SGDClassifier()"
      ],
      "execution_count": null,
      "outputs": []
    },
    {
      "cell_type": "code",
      "metadata": {
        "id": "tHze_oCcpIIg"
      },
      "source": [
        "from sklearn.metrics import accuracy_score\n",
        "model.fit(trainFeatures, trainLables)\n",
        "prediction = model.predict(testFeatures)\n",
        "accuracy_score(y_true=testLables, y_pred=prediction)"
      ],
      "execution_count": null,
      "outputs": []
    },
    {
      "cell_type": "markdown",
      "metadata": {
        "id": "PbLDC2P5nedj"
      },
      "source": [
        "## Macska-kutya képosztályozási feladat\n",
        "\n",
        "Alább a '[macskák vs kutyák](https://www.kaggle.com/c/dogs-vs-cats/)' képosztályozási feladatra adunk gépi tanulási megoldást. Itt bináris osztályozót kell építeni, ami vagy a *macska* vagy a *kutya* osztályba sorol be egy képet. A [tanító adatbázis](https://www.kaggle.com/c/dogs-vs-cats/data) 25ezer képet tartalmaz, amelyet emberek *macska* vagy *kutya* címkével láttak el.\n",
        "\n",
        "(A [kaggle](http://www.kaggle.com) gépi tanulási (verseny)feladatok tárháza, futtatható notebookokkal és élő közösséggel akik megoldásokat is megtárgyalnak. Gyakorlásra/versenyzésre ajánlom mindenkinek...)"
      ]
    },
    {
      "cell_type": "code",
      "metadata": {
        "id": "BUcWHTAVwUEP"
      },
      "source": [
        "#letöltjük a címkézett képfájlokat\n",
        "import os\n",
        "import urllib.request\n",
        "#az eredeti kaggle adatbázisból 100 képet kiemeltem, hogy pillanatok alatt fusson a kód\n",
        "#természetesen ha pontosabb rendszert szeretnénk akkor érdemes nagyobb képi adatbázissal dolgozni\n",
        "url = 'https://github.com/rfarkas/student_data/raw/main/images/100imgs.zip'\n",
        "urllib.request.urlretrieve(url,'t.zip') #a t.zip a temporálisan notebookhoz rendelt tárhelyre kerül a Google felhőjében\n",
        "\n",
        "#kitömörítjük a zip tartalmát\n",
        "import zipfile\n",
        "zipfile.ZipFile('t.zip').extractall('tmp_imgs')"
      ],
      "execution_count": null,
      "outputs": []
    },
    {
      "cell_type": "markdown",
      "metadata": {
        "id": "f2qPmS19dIAe"
      },
      "source": [
        "## Képek előfeldolgozása\n",
        "Ahhoz, hogy a kép egyedeket gépi tanulási feladatban használni tudjuk, le kell írni őket jellemzőkkel. Ehhez általában első lépésként normalizálni szükséges a képadatbázisokat, például egyenméretre kell alakítani a képeket.\n",
        "\n",
        "A képek (és videók) előfeldolgozásának - így normalizálás és jellemzőkinyerés - legelterjedtebb eszköze az [OpenCV](https://opencv-python-tutroals.readthedocs.io/en/latest/py_tutorials/py_tutorials.html). "
      ]
    },
    {
      "cell_type": "code",
      "metadata": {
        "id": "G8LNllhnZ2c0"
      },
      "source": [
        "import cv2 as cv #OpenCV"
      ],
      "execution_count": null,
      "outputs": []
    },
    {
      "cell_type": "markdown",
      "metadata": {
        "id": "lecsjBtF9SSd"
      },
      "source": [
        "Az OpenCV a színes képeket 3 dimenziós tömbökben (tenzorban) tárolja. Az első két dimenzió egy pixel x és y koordinátáival indexelhető és minden pixelhez 3 színcsatorna érték tartozik:"
      ]
    },
    {
      "cell_type": "code",
      "metadata": {
        "id": "QShzOTIlj4xp"
      },
      "source": [
        "image = cv.imread('tmp_imgs/cat.8000.jpg') # egy JPEG fájl a temporális könyvtárból\n",
        "image"
      ],
      "execution_count": null,
      "outputs": []
    },
    {
      "cell_type": "code",
      "metadata": {
        "id": "tF5zUrb7Z9NB"
      },
      "source": [
        "image.shape"
      ],
      "execution_count": null,
      "outputs": []
    },
    {
      "cell_type": "code",
      "metadata": {
        "id": "yopTnKdOlhYe"
      },
      "source": [
        "#ha meg akarjuk jeleníteni a képeket a notebookban\n",
        "from matplotlib import pyplot as plt\n",
        "plt.imshow(image)"
      ],
      "execution_count": null,
      "outputs": []
    },
    {
      "cell_type": "markdown",
      "metadata": {
        "id": "tZ_3HdxWl05g"
      },
      "source": [
        "Kicsit furák a színek...\n",
        "\n",
        "Azért mert az OpenCV blue, green, red sorrendben tárolja a színcsatornákat, míg a notebookunk RGB sorrendet feltételez ([BGR2RGB](https://giusedroid.blogspot.hu/2015/04/blog-post.html) részletesebben). Egyszerűen átkonvertálhatjuk RGBbe:"
      ]
    },
    {
      "cell_type": "code",
      "metadata": {
        "id": "5pEZDBkglyOb"
      },
      "source": [
        "plt.imshow(cv.cvtColor(image,cv.COLOR_BGR2RGB))"
      ],
      "execution_count": null,
      "outputs": []
    },
    {
      "cell_type": "markdown",
      "metadata": {
        "id": "aQf72Kn4oMbN"
      },
      "source": [
        "Használjuk itt is jellemzőnek a kép pixeleinek színét! Ehhez a jellemzőkészlethez viszont elengedhetetlen, hogy a képek egyenméretűek legyenek."
      ]
    },
    {
      "cell_type": "code",
      "metadata": {
        "id": "JSVMl5bkng8J"
      },
      "source": [
        "image.shape #egy kép méretei: magasság pixelszám, szélesség pixelszám, színcsatornák száma"
      ],
      "execution_count": null,
      "outputs": []
    },
    {
      "cell_type": "code",
      "metadata": {
        "id": "Z1rNoiYWlp3l"
      },
      "source": [
        "# több módszer is van egyenméretezésre (például levágás), de most csak tömörítünk:\n",
        "image_small = cv.resize(image,(32,32)) # 32 x 32 méretűre konvertáljuk a képet\n",
        "plt.imshow(cv.cvtColor(image_small,cv.COLOR_BGR2RGB))"
      ],
      "execution_count": null,
      "outputs": []
    },
    {
      "cell_type": "markdown",
      "metadata": {
        "id": "JK0EheSkAK0J"
      },
      "source": [
        "Emberi szem számára a minőség sokat romlik, de így egy pixel még mindig leírja, hogy a kép azon területén milyen színek fordulnak elő, ezzel közelítve azt, hogy a kép adott területén mi fordul elő..."
      ]
    },
    {
      "cell_type": "code",
      "metadata": {
        "id": "DzWXY6Yqaqrt"
      },
      "source": [
        "os.listdir('tmp_imgs')"
      ],
      "execution_count": null,
      "outputs": []
    },
    {
      "cell_type": "code",
      "metadata": {
        "id": "Wzn3mTMoh6fX"
      },
      "source": [
        "rawImages = [] # a lista minden eleme egy eredeti kép\n",
        "features = [] # a lista minden eleme egy kép pixelvektora\n",
        "labels = [] # a lista minden eleme a kép címkéje ('cat' vagy 'dog')"
      ],
      "execution_count": null,
      "outputs": []
    },
    {
      "cell_type": "code",
      "metadata": {
        "id": "MqC49-aJeYCl"
      },
      "source": [
        "for f in os.listdir('tmp_imgs'): # könyvtárbejárás\n",
        "  image = cv.imread('tmp_imgs/'+f) # kép beolvasása\n",
        "  label = f.split(os.path.sep)[-1].split(\".\")[0] # a fájlnév megadja most a címkét (vagy cat vagy dog az első '.' előtt fájlnév)\n",
        "  \n",
        "  #flatten a 3D tömbből 1D-t csinál (egymás után fűzi a sorokat)\n",
        "  pixels = cv.resize(image,(32,32)).flatten() # egyenméretűre hozzuk a képeket! 32 x 32 x 3 = 3072 érték képenként\n",
        "    \n",
        "  rawImages.append(image)\n",
        "  features.append(pixels)\n",
        "  labels.append(label)"
      ],
      "execution_count": null,
      "outputs": []
    },
    {
      "cell_type": "code",
      "metadata": {
        "id": "LJey5gfOa3Pw"
      },
      "source": [
        "pixels.shape"
      ],
      "execution_count": null,
      "outputs": []
    },
    {
      "cell_type": "code",
      "metadata": {
        "id": "oLdKvvcPHlT2"
      },
      "source": [
        "# ellenőrzés:\n",
        "print(\"lengths:\", len(labels), len(rawImages), len(features))\n",
        "print(\"# features:\", len(features[0]))\n",
        "pd.value_counts(labels)"
      ],
      "execution_count": null,
      "outputs": []
    },
    {
      "cell_type": "markdown",
      "metadata": {
        "id": "oc7wD-LeLIah"
      },
      "source": [
        "Elkülönítünk egy teszt halmazt, amit a tanítás során nem láthatunk/használhatunk (hold out set). A 100db képünkből, használjuk az első 80-at tanító adatbázisként és az utolsó 20-on értékeljünk ki. Egy címkézett adatbázis ilyen szétosztását **train-test split**nek hívjuk."
      ]
    },
    {
      "cell_type": "code",
      "metadata": {
        "id": "mjOKyXYSws2G"
      },
      "source": [
        "trainLables = labels[:81]\n",
        "testLables  = labels[81:]\n",
        "trainFeatures = features[:81]\n",
        "testFeatures  = features[81:]\n",
        "trainImages = rawImages[:81]\n",
        "testImages  = rawImages[81:]"
      ],
      "execution_count": null,
      "outputs": []
    },
    {
      "cell_type": "code",
      "metadata": {
        "id": "CP8-NxUXihXn"
      },
      "source": [
        "from sklearn.neighbors import KNeighborsClassifier\n",
        "model = KNeighborsClassifier(n_neighbors=5) # n_neighbors a k érték (szomszédok száma)\n",
        "model.fit(trainFeatures, trainLables) # tanítás"
      ],
      "execution_count": null,
      "outputs": []
    },
    {
      "cell_type": "code",
      "metadata": {
        "id": "HXry0zpMMD5W"
      },
      "source": [
        "from sklearn.metrics import accuracy_score\n",
        "prediction = model.predict(testFeatures)\n",
        "accuracy_score(y_true=testLables, y_pred=prediction)"
      ],
      "execution_count": null,
      "outputs": []
    },
    {
      "cell_type": "markdown",
      "metadata": {
        "id": "fM3G_d7sPbcv"
      },
      "source": [
        "Mennyire jó ez az accuracy?\n",
        "\n",
        "Csak úgy tudjuk megítélni ha valamilyen nagyon egyszerű döntési szabályhoz ([**baseline**](http://inf.u-szeged.hu/~rfarkas/ML20/baseline.html) vagy dummy) hasonlítjuk. Ha egyszerű döntési szabályoknál jobb eredményt érünk el, akkor mondhatjuk, hogy tanult valamit az algoritmus."
      ]
    },
    {
      "cell_type": "code",
      "metadata": {
        "id": "z7DgPE1exJZ8"
      },
      "source": [
        "from sklearn.dummy import DummyClassifier\n",
        "dummy = DummyClassifier(strategy='most_frequent',random_state=0) # most frequent class baseline\n",
        "dummy.fit(trainFeatures, trainLables)\n",
        "dummy.score(testFeatures, testLables)\n"
      ],
      "execution_count": null,
      "outputs": []
    },
    {
      "cell_type": "markdown",
      "metadata": {
        "id": "KxBDRr6rQTLc"
      },
      "source": [
        "Azt állíthatjuk, hogy \n",
        "*   ezen a 80darab képes tanító adatbázison és\n",
        "*   ezzel a jellemzőleírással és\n",
        "*   az így paraméterezett kNN tanulóval\n",
        "\n",
        "nem tudunk tanulni. A tanító adatbázis méretének növelésén túl, másik osztályozó választása lehet a megoldás. A kNN legnagyobb hátránya, hogy csak jól definált hasonlósági függvény mellett működik jól. Alapértelmezett esetben a jellemzővektorok súlyozatlan euklideszi távolságát használja."
      ]
    },
    {
      "cell_type": "markdown",
      "metadata": {
        "id": "df19CahnTw-k"
      },
      "source": [
        "Mindig próbáljuk meg megérteni mit csinál a model! A kNN-nél egyszerűen ki lehet listázni, hogy melyik képhez melyek a leghasonlóbbak (legközelebbi szomszédok)."
      ]
    },
    {
      "cell_type": "code",
      "metadata": {
        "id": "TDxD_8GXUSIY"
      },
      "source": [
        "# első tesztkép:\n",
        "plt.imshow(cv.cvtColor(testImages[0],cv.COLOR_BGR2RGB))"
      ],
      "execution_count": null,
      "outputs": []
    },
    {
      "cell_type": "code",
      "metadata": {
        "id": "FsOWgr18Soxl"
      },
      "source": [
        "nn = model.kneighbors(testFeatures[0:1], return_distance=False) # az első tesztképhez talált 5 legközelebbi szomszéd (a tanító adatbázisból) indexe\n",
        "nn # neighborhood"
      ],
      "execution_count": null,
      "outputs": []
    },
    {
      "cell_type": "code",
      "metadata": {
        "id": "ZHHYf4p1Uor7"
      },
      "source": [
        "# a neighborhood megjelenítése\n",
        "fig, imgs = plt.subplots(1,5)\n",
        "for k in range(5):\n",
        "  train_idx = nn[0][k]\n",
        "  imgs[k].imshow(cv.cvtColor(trainImages[train_idx],cv.COLOR_BGR2RGB))\n",
        "plt.tight_layout()\n",
        "plt.show()"
      ],
      "execution_count": null,
      "outputs": []
    },
    {
      "cell_type": "markdown",
      "metadata": {
        "id": "RJUxjQP_zTpR"
      },
      "source": [
        "Mire tanítottuk a gépet!? Arra, hogy ugyanazon az x,y koordinátán lévő pixelek színei hasonlóak legyenek... "
      ]
    },
    {
      "cell_type": "markdown",
      "metadata": {
        "id": "avjsuGOrnFes"
      },
      "source": [
        "## Képbeágyazások\n",
        "\n",
        "Amikor a pixelhasonlóság nem elég jó (mert bonyolult objektumokat kell kategórizálni) akkor jobb jellemző leírást adnak az előre tanított képbeágyazások.\n",
        "\n",
        "A https://github.com/christiansafka/img2vec a [pytorch](https://towardsdatascience.com/using-predefined-and-pretrained-cnns-in-pytorch-e3447cbe9e3c)-ra épül, és az [ImageNet](http://www.image-net.org/) 1.4 millió képén lett előtanítva."
      ]
    },
    {
      "cell_type": "code",
      "metadata": {
        "id": "qhPCoBV49IJE"
      },
      "source": [
        "!wget https://raw.githubusercontent.com/christiansafka/img2vec/master/img2vec_pytorch/img_to_vec.py"
      ],
      "execution_count": null,
      "outputs": []
    },
    {
      "cell_type": "code",
      "metadata": {
        "id": "IFI_ZXmS9RDZ"
      },
      "source": [
        "from img_to_vec import Img2Vec\n",
        "img2vec = Img2Vec()"
      ],
      "execution_count": null,
      "outputs": []
    },
    {
      "cell_type": "code",
      "metadata": {
        "id": "2o9hTRRU9hdZ"
      },
      "source": [
        "from PIL import Image # PIL típusú képformátumban várja az inputot az img2vec\n",
        "img = Image.open('tmp_imgs/cat.8000.jpg')\n",
        "img2vec.get_vec(img)"
      ],
      "execution_count": null,
      "outputs": []
    },
    {
      "cell_type": "markdown",
      "metadata": {
        "id": "tKO3QiMS-kT-"
      },
      "source": [
        "Minden képet egy 512 dimenziós sűrő vektorként ágyaz be a ResNet-18 előretanított neurális hálózat."
      ]
    },
    {
      "cell_type": "code",
      "metadata": {
        "id": "HKOTYeeg-QPw"
      },
      "source": [
        "len(img2vec.get_vec(img))"
      ],
      "execution_count": null,
      "outputs": []
    },
    {
      "cell_type": "code",
      "metadata": {
        "id": "8XcNb2uCxxJg"
      },
      "source": [
        "# rawImage formátumunkból így tudunk PTL-t gyártani:\n",
        "img = Image.fromarray(rawImages[0])\n",
        "len(img2vec.get_vec(img))"
      ],
      "execution_count": null,
      "outputs": []
    },
    {
      "cell_type": "code",
      "metadata": {
        "id": "P3COq9-Q_Sgp"
      },
      "source": [
        "# A képegyedeket most az img2vec beágyazással írjuk le (512 folytonos jellemző)\n",
        "vecs = []\n",
        "for img in rawImages:\n",
        "  vecs.append( img2vec.get_vec( Image.fromarray(img) ))"
      ],
      "execution_count": null,
      "outputs": []
    },
    {
      "cell_type": "code",
      "metadata": {
        "id": "J8ETIZddBO48"
      },
      "source": [
        "trainFeatures = vecs[:81]\n",
        "testFeatures  = vecs[81:]"
      ],
      "execution_count": null,
      "outputs": []
    },
    {
      "cell_type": "markdown",
      "metadata": {
        "id": "SmQxw0H305RP"
      },
      "source": [
        "Nagyon kevés a tanító példánk, de most már jó hasonlósági metrikánk van (képbeágyazások között számolt vektorhasonlóság vizuális tartalmi hasonlóságot ír le), így a kNN a jó választás:"
      ]
    },
    {
      "cell_type": "code",
      "metadata": {
        "id": "902UybSZ1YHX"
      },
      "source": [
        "from sklearn.neighbors import KNeighborsClassifier\n",
        "model = KNeighborsClassifier(n_neighbors=13) # n_neighbors a k érték (szomszédok száma)\n",
        "model.fit(trainFeatures, trainLables) # tanítás"
      ],
      "execution_count": null,
      "outputs": []
    },
    {
      "cell_type": "code",
      "metadata": {
        "id": "W3Bh8Y1z1YHc"
      },
      "source": [
        "from sklearn.metrics import accuracy_score\n",
        "prediction = model.predict(testFeatures)\n",
        "accuracy_score(y_true=testLables, y_pred=prediction)"
      ],
      "execution_count": null,
      "outputs": []
    },
    {
      "cell_type": "code",
      "metadata": {
        "id": "1mF3U-aDxUuW"
      },
      "source": [
        "prediction != testLables"
      ],
      "execution_count": null,
      "outputs": []
    },
    {
      "cell_type": "markdown",
      "metadata": {
        "id": "u8pc0gBs1_mt"
      },
      "source": [
        "Ez nagyon szép :) De a képbeágyazások sem mágikus csodafegyver! Az ImageNet, amin a beágyazás tanítva lett több száz állatfajt tartalmaz ill. a 'kutya vs macska' feladat nagyon könnyű. Ha például arcokat kellene érzelem alapján osztályozni (gyakorló feladat), arra már nem lesz ilyen jó a beágyazás. Ismernünk kell, hogy hogyan készültek a beágyazások, csak így tudjuk megállapítani, hogy az adott célfeladathoz jó lesz-e!"
      ]
    },
    {
      "cell_type": "code",
      "metadata": {
        "id": "A9T9g7Pdxlly"
      },
      "source": [
        "plt.imshow(cv.cvtColor(testImages[-3],cv.COLOR_BGR2RGB))"
      ],
      "execution_count": null,
      "outputs": []
    },
    {
      "cell_type": "code",
      "metadata": {
        "id": "corbvvY1xuUg"
      },
      "source": [
        "nn = model.kneighbors(testFeatures[-3:-2], return_distance=False)"
      ],
      "execution_count": null,
      "outputs": []
    },
    {
      "cell_type": "markdown",
      "metadata": {
        "id": "H8ZlWI6srUOE"
      },
      "source": [
        "# Gyakorló feladatok\n",
        "\n",
        "1. A megismert 100 kutya/macska adatbázison futtasd le az alábbi kísérletet.\n",
        "*    szürkeárnyalatos képeken\n",
        "*    64 x 64-re átméretezve\n",
        "*    train/test 80-20% vágás\n",
        "*    sztochasztikus gradient descent tanulóval\n",
        "*    jellemzőkészlet: pixelek\n",
        "\n",
        "Kérdés, hogy mennyire függ az elért pontosság a train test split véletlenszerűségétől! Ehhez százszor futtasd le, hogy\n",
        "a 100 képből véletlenszerűen választasz 80 train és 20 test esetet tanítasz a trainen, accuracyt mérsz a teszten.\n",
        "\n"
      ]
    },
    {
      "cell_type": "markdown",
      "metadata": {
        "id": "KSzsP5SPvGa0"
      },
      "source": [
        "2. Milyen pontossággal tudjuk egy arcképről azonosítani az érzelmeket?\n",
        "\n",
        "Hajts végre egy tanító-kiértékelő adatbázis bontással predikciós kísérletet az alábbi adatbázison!"
      ]
    },
    {
      "cell_type": "code",
      "metadata": {
        "id": "tb2pHgesvmsD"
      },
      "source": [
        "import pandas as pd\n",
        "data = pd.read_csv('https://github.com/rfarkas/student_data/raw/main/images/fer2013_1K.csv')"
      ],
      "execution_count": null,
      "outputs": []
    },
    {
      "cell_type": "code",
      "metadata": {
        "id": "rCSOSTE3vo-L"
      },
      "source": [
        "#48x48 szürke képek egy stringben vannak kódolva. A 11. kép kiolvasása:\n",
        "import numpy as np\n",
        "image = np.reshape(np.asarray(data.pixels[11].split(' '), np.uint8), (48,48))\n",
        "plt.imshow(image, cmap=\"gray\")"
      ],
      "execution_count": null,
      "outputs": []
    },
    {
      "cell_type": "markdown",
      "metadata": {
        "id": "iwKHz_fM2Kia"
      },
      "source": [
        "---\n",
        "**Kitekintés:**\n",
        "Az elmút 10 évben a képosztályozásban mindent visz a Convolutional Neural Network (CNN), ami a deep learning egyik legnagyobb sikersztorija! Ez egy jó [tutorial](http://cv-tricks.com/tensorflow-tutorial/training-convolutional-neural-network-for-image-classification/)."
      ]
    }
  ]
}