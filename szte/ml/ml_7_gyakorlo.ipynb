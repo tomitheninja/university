{
  "nbformat": 4,
  "nbformat_minor": 0,
  "metadata": {
    "colab": {
      "provenance": [],
      "collapsed_sections": []
    },
    "kernelspec": {
      "name": "python3",
      "display_name": "Python 3"
    }
  },
  "cells": [
    {
      "cell_type": "markdown",
      "metadata": {
        "id": "srM_Ws-KYSTl"
      },
      "source": [
        "**1)** A megismert 100 kutya/macska adatbázison futtasd le az alábbi kísérletet.\n",
        "*    szürkeárnyalatos képeken\n",
        "*    64 x 64-re átméretezve\n",
        "*    train/test 80-20% vágás\n",
        "*    sztochasztikus gradient descent tanulóval\n",
        "*    jellemzőkészlet: pixelek\n",
        "\n",
        "Kérdés, hogy mennyire függ az elért pontosság a train test split véletlenszerűségétől! Ehhez százszor futtasd le, hogy\n",
        "a 100 képből véletlenszerűen választasz 80 train és 20 test esetet tanítasz a trainen, accuracyt mérsz a teszten.\n"
      ]
    },
    {
      "cell_type": "code",
      "metadata": {
        "id": "zz3C2qxBKS0P"
      },
      "source": [
        "# képadatbázis letöltése\n",
        "\n",
        "import os\n",
        "import urllib.request\n",
        "import zipfile\n",
        " \n",
        "url = 'https://github.com/rfarkas/student_data/raw/main/images/100imgs.zip'\n",
        "urllib.request.urlretrieve(url,'t.zip') \n",
        "zipfile.ZipFile('t.zip').extractall('tmp_imgs')"
      ],
      "execution_count": null,
      "outputs": []
    },
    {
      "cell_type": "code",
      "metadata": {
        "id": "c-yYd0HVLa7I"
      },
      "source": [
        "# jellemzőkinyerés\n",
        "\n",
        "import cv2 as cv #OpenCV\n",
        "\n",
        "features = []\n",
        "labels = []\n",
        "\n",
        "for f in os.listdir('tmp_imgs'): \n",
        "  image = cv.imread('tmp_imgs/'+f) \n",
        "  label = f.split(os.path.sep)[-1].split(\".\")[0] \n",
        "  small_image = cv.resize(image,(64,64))\n",
        "  small_gray_image = cv.cvtColor(small_image,cv.COLOR_BGR2GRAY)\n",
        "  pixel = small_gray_image.flatten()\n",
        "  labels.append(label)\n",
        "  features.append(pixel)"
      ],
      "execution_count": null,
      "outputs": []
    },
    {
      "cell_type": "code",
      "metadata": {
        "id": "r8MHcFE7ZlNr"
      },
      "source": [
        "# gépi tanulási kísérlet\n",
        "\n",
        "from sklearn.linear_model import SGDClassifier\n",
        "from sklearn.model_selection import train_test_split\n",
        "\n",
        "accuracy = []\n",
        "cl = SGDClassifier()\n",
        "for i in range(100):\n",
        "  X_train, X_test, y_train, y_test = train_test_split(features, labels, test_size=0.2) # véletlenszerű train/test szétvágása a 100 képnek\n",
        "  model = cl.fit(X_train, y_train) # tanítás train halmazon\n",
        "  accuracy.append(model.score(X_test, y_test)) # kiértékelés a test halmazon"
      ],
      "execution_count": null,
      "outputs": []
    },
    {
      "cell_type": "code",
      "metadata": {
        "id": "-Wk0CFU3aVUA",
        "colab": {
          "base_uri": "https://localhost:8080/",
          "height": 285
        },
        "outputId": "0b4a62d9-87b7-45c5-b582-71a3ad57d3c3"
      },
      "source": [
        "# eredmények vizualizációja\n",
        "\n",
        "import pandas as pd\n",
        "pd.Series(accuracy).hist()"
      ],
      "execution_count": null,
      "outputs": [
        {
          "output_type": "execute_result",
          "data": {
            "text/plain": [
              "<matplotlib.axes._subplots.AxesSubplot at 0x7fa6c1e151d0>"
            ]
          },
          "metadata": {},
          "execution_count": 6
        },
        {
          "output_type": "display_data",
          "data": {
            "image/png": "[encoded data removed]",
            "text/plain": [
              "<Figure size 432x288 with 1 Axes>"
            ]
          },
          "metadata": {
            "needs_background": "light"
          }
        }
      ]
    },
    {
      "cell_type": "markdown",
      "metadata": {
        "id": "QWywpI3FbH04"
      },
      "source": [
        "Ilyen kicsi adatbázison, az eredmények nagyban függenek a train/test vágástól!!! Célszerű legalább párezres adatbázison kiértékelni, hogy robosztusabbak legyenek az eredmények."
      ]
    },
    {
      "cell_type": "markdown",
      "metadata": {
        "id": "KSzsP5SPvGa0"
      },
      "source": [
        "**2)** Milyen pontossággal tudjuk egy arcképről azonosítani az érzelmeket?\n",
        "\n",
        "Hajts végre egy tanító-kiértékelő adatbázis bontással predikciós kísérletet az alábbi adatbázison!"
      ]
    },
    {
      "cell_type": "code",
      "metadata": {
        "id": "tb2pHgesvmsD"
      },
      "source": [
        "import pandas as pd\n",
        "data = pd.read_csv('https://github.com/rfarkas/student_data/raw/main/images/fer2013_1K.csv')"
      ],
      "execution_count": null,
      "outputs": []
    },
    {
      "cell_type": "code",
      "metadata": {
        "id": "DhY9WYanNs-Z"
      },
      "source": [
        "data"
      ],
      "execution_count": null,
      "outputs": []
    },
    {
      "cell_type": "code",
      "metadata": {
        "id": "fvr_6o7SNnO4"
      },
      "source": [
        "print(data.columns)\n",
        "len(data)"
      ],
      "execution_count": null,
      "outputs": []
    },
    {
      "cell_type": "code",
      "metadata": {
        "id": "rCSOSTE3vo-L"
      },
      "source": [
        "#48x48 szürke képek egy stringbe vannak kódolva. A 11. kép kiolvasása:\n",
        "import numpy as np\n",
        "image = np.reshape(np.asarray(data.pixels[11].split(' '), np.uint8), (48,48))\n",
        "plt.imshow(image, cmap=\"gray\")"
      ],
      "execution_count": null,
      "outputs": []
    },
    {
      "cell_type": "code",
      "metadata": {
        "id": "sMfla-10OWVf"
      },
      "source": [
        "def str2img(img):\n",
        "  return np.reshape(np.asarray(img.split(' '), np.uint8), (48,48))"
      ],
      "execution_count": null,
      "outputs": []
    },
    {
      "cell_type": "code",
      "metadata": {
        "id": "qhPCoBV49IJE"
      },
      "source": [
        "!wget https://raw.githubusercontent.com/christiansafka/img2vec/master/img2vec_pytorch/img_to_vec.py"
      ],
      "execution_count": null,
      "outputs": []
    },
    {
      "cell_type": "code",
      "metadata": {
        "id": "IFI_ZXmS9RDZ"
      },
      "source": [
        "from img_to_vec import Img2Vec\n",
        "img2vec = Img2Vec()"
      ],
      "execution_count": null,
      "outputs": []
    },
    {
      "cell_type": "code",
      "metadata": {
        "id": "2o9hTRRU9hdZ"
      },
      "source": [
        "from PIL import Image \n",
        "img2vec.get_vec(Image.fromarray(image).convert('RGB')) # img2vec csak RGB képeket tud kezelni, a szürkeárnyalatos képeinket RGB-be kell konvertálni!"
      ],
      "execution_count": null,
      "outputs": []
    },
    {
      "cell_type": "code",
      "metadata": {
        "id": "AH57lFHm22X_"
      },
      "source": [
        "imgvecs = []\n",
        "for i in data.pixels:\n",
        "  imgvec = img2vec.get_vec(Image.fromarray(str2img(i)).convert('RGB'))\n",
        "  imgvecs.append(imgvec)"
      ],
      "execution_count": null,
      "outputs": []
    },
    {
      "cell_type": "code",
      "metadata": {
        "id": "vAQIOGJyOWew"
      },
      "source": [
        "# train/test vágás\n",
        "from sklearn.model_selection import train_test_split\n",
        "labels = data.emotion.tolist()\n",
        "train_features, test_features, train_labels, test_label = train_test_split(imgvecs,labels, test_size=0.2)"
      ],
      "execution_count": null,
      "outputs": []
    },
    {
      "cell_type": "code",
      "metadata": {
        "id": "to-OASgzOWRH"
      },
      "source": [
        "# KNN osztályozó tanítása\n",
        "from sklearn.neighbors import KNeighborsClassifier"
      ],
      "execution_count": null,
      "outputs": []
    },
    {
      "cell_type": "code",
      "metadata": {
        "id": "cCySRZwZOWPJ"
      },
      "source": [
        "model = KNeighborsClassifier(n_neighbors=5)\n",
        "model.fit(train_features, train_labels)"
      ],
      "execution_count": null,
      "outputs": []
    },
    {
      "cell_type": "code",
      "metadata": {
        "id": "hndpV2o5Qd58"
      },
      "source": [
        "# Kiértékelés a teszt halmazon\n",
        "from sklearn.metrics import classification_report"
      ],
      "execution_count": null,
      "outputs": []
    },
    {
      "cell_type": "code",
      "metadata": {
        "id": "9ecjAYqfQd1B"
      },
      "source": [
        "pred = model.predict(test_features)\n",
        "print(classification_report(y_pred=pred, y_true=test_label))"
      ],
      "execution_count": null,
      "outputs": []
    },
    {
      "cell_type": "code",
      "metadata": {
        "id": "589V24yuShN5"
      },
      "source": [
        "# az eredményeket mindig hasonlítsuk egy egyszerű döntési szabály eredményeihez!\n",
        "from sklearn.dummy import DummyClassifier\n",
        "dummy = DummyClassifier(strategy='most_frequent',random_state=0)\n",
        "dummy.fit(train_features, train_labels)"
      ],
      "execution_count": null,
      "outputs": []
    },
    {
      "cell_type": "code",
      "metadata": {
        "id": "f8Le8BEbSg-S"
      },
      "source": [
        "pred_dummy = dummy.predict(test_features)\n",
        "print(classification_report(y_pred=pred_dummy, y_true=test_label))"
      ],
      "execution_count": null,
      "outputs": []
    }
  ]
}