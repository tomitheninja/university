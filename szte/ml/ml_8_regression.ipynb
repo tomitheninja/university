{
  "nbformat": 4,
  "nbformat_minor": 0,
  "metadata": {
    "colab": {
      "provenance": [],
      "collapsed_sections": []
    },
    "kernelspec": {
      "name": "python3",
      "display_name": "Python 3"
    }
  },
  "cells": [
    {
      "cell_type": "markdown",
      "metadata": {
        "id": "PUxpbWSY7_uo"
      },
      "source": [
        "# Regresszió\n",
        "\n",
        "Olvasd el a regressziós gépi tanulási feladatot bevezető [előadás olvasóleckét](http://www.inf.u-szeged.hu/~rfarkas/ML20/regression.html)!\n"
      ]
    },
    {
      "cell_type": "markdown",
      "metadata": {
        "id": "XkEx-mCL1S9Z"
      },
      "source": [
        "## Egy regressziós feladat ajánlórendszerekhez\n",
        "\n",
        "Az ajánlórendszerek célja, hogy ajánlanak olyan tartalmat (film, video-on-demand, zene, könyv, hír, kép, weboldal, cikk, stb.) egy konkrét felhasználónak, amely nagy valószínűséggel érdekes lesz neki. Ehhez általában a rendszerek felhasználói- és termékprofilokat építenek a múltbeli információk alapján gépi tanuló algoritmusok segítésével. Ha többet szeretnél megtudni az ajánlórendszerekről, [lásd](http://www.inf.u-szeged.hu/~rfarkas/ML17/10a_Ajanlo_rendszerek.ppt)."
      ]
    },
    {
      "cell_type": "markdown",
      "metadata": {
        "id": "CQLIgJ9S7TTK"
      },
      "source": [
        "A regressziós feladathoz  a [[MovieLens adatbázis]](https://grouplens.org/datasets/movielens/)t fogjuk használni, ami egy közismert adatbázis ajánlórendszerek fejlesztésére."
      ]
    },
    {
      "cell_type": "code",
      "metadata": {
        "id": "yVd4CE33L2kE"
      },
      "source": [
        "import pandas as pd\n",
        "# egy kezelhető méretű részlete a MovieLens adatbázisnak:\n",
        "ratings = pd.read_csv('https://raw.githubusercontent.com/rfarkas/student_data/main/MovieLens/movielens.small.ratings') # egy kezelhető méretű részlete a MovieLens adatbázisnak\n",
        "ratings.head()"
      ],
      "execution_count": null,
      "outputs": []
    },
    {
      "cell_type": "markdown",
      "metadata": {
        "id": "Dn0Zpfg77uOH"
      },
      "source": [
        "A belolvasás NEM jó!\n",
        "\n",
        "Egyrészt TAB az elválasztó karakter, márészt nincs \"fejléc\", az első rekorot hiszi a rendszer oszlopneveknek..."
      ]
    },
    {
      "cell_type": "code",
      "metadata": {
        "id": "GWk_ZhJrMzkh"
      },
      "source": [
        "# oszlopnevek:\n",
        "rating_colnames = ['userID', # felhasználó azonosítója\n",
        "                   'movieID', # film azonosítója\n",
        "                   'unix_timestamp', # időpont amikor a felhasználó értékelte a filmet\n",
        "                   'rating' # értékelés 1-5 skálán, 5 a legjobb\n",
        "                   ] \n",
        "\n",
        "#helyes beolvasás:\n",
        "ratings = pd.read_csv('https://raw.githubusercontent.com/rfarkas/student_data/main/MovieLens/movielens.small.ratings', sep='\\t', names=rating_colnames) \n",
        "ratings.head()"
      ],
      "execution_count": null,
      "outputs": []
    },
    {
      "cell_type": "code",
      "metadata": {
        "id": "eA4rImHy9dix"
      },
      "source": [
        "ratings.shape # 80ezer értékelés (minden rekord egy felhasználó értékelése egy konkrét filmről)"
      ],
      "execution_count": null,
      "outputs": []
    },
    {
      "cell_type": "code",
      "metadata": {
        "id": "1n6hk_IsNSuX"
      },
      "source": [
        "# Több információt tudunk a felhasználókról?\n",
        "users = pd.read_csv('https://raw.githubusercontent.com/rfarkas/student_data/main/MovieLens/movielens.user.info', sep='\\t')\n",
        "users.head()"
      ],
      "execution_count": null,
      "outputs": []
    },
    {
      "cell_type": "code",
      "metadata": {
        "id": "cHSP39B7PD5k"
      },
      "source": [
        "pd.merge(ratings, users).head() # userID-val összeköthetjük az értékeléseket és a felhasználókról szoló információkat\n",
        "# ez igencsak redundáns, de ilyen kis adaton kényelmes használni..."
      ],
      "execution_count": null,
      "outputs": []
    },
    {
      "cell_type": "code",
      "metadata": {
        "id": "Ew_rv-pQPVkd"
      },
      "source": [
        "# Filmekről is rendelkezésre áll több információ:\n",
        "item_colnames = ['movieID', # ezzel tudjuk összekötni az értékelésekkel\n",
        "                 'title', # film címe, aztán zárójelben a bemutató éve\n",
        "                 'genre', # műfaj címkék\n",
        "                 'plot', # rövid tartalmi leírás\n",
        "                 'actors' # színészek\n",
        "                 ] \n",
        "\n",
        "# szöveges fájloknál a karakterkódolásra (encoding) is figyeljünk!\n",
        "movies = pd.read_csv('https://raw.githubusercontent.com/rfarkas/student_data/main/MovieLens/movielens.item.info', sep='\\t', names=item_colnames, encoding='latin-1')\n",
        "movies.head()"
      ],
      "execution_count": null,
      "outputs": []
    },
    {
      "cell_type": "code",
      "metadata": {
        "id": "lyQjzeBAt3rE"
      },
      "source": [
        "movies.shape"
      ],
      "execution_count": null,
      "outputs": []
    },
    {
      "cell_type": "markdown",
      "metadata": {
        "id": "V3u0ubR3_iT2"
      },
      "source": [
        "Ha a három adatbázist összefésüljük több információnk lesz a jellemzőtér kialakításához..."
      ]
    },
    {
      "cell_type": "code",
      "metadata": {
        "id": "izuOfaMIDdAw"
      },
      "source": [
        "lens = pd.merge(ratings, movies)\n",
        "lens = pd.merge(lens, users)\n",
        "lens.head()"
      ],
      "execution_count": null,
      "outputs": []
    },
    {
      "cell_type": "markdown",
      "metadata": {
        "id": "vQIL7C22R8kb"
      },
      "source": [
        "Az **ajánlórendszer feladata** annak predikciója, hogy egy konkrét felhasználó, egy konkrét filmet mennyire értékelne. Azaz egy userID-movieID párosra kell egy 1..5 intervallumba eső értéket jósolnunk. Ha ezt jól meg tudjuk oldalni, az ajánlás már lehet a legnagyobb predikált ratinggel rendelkező termékek (amikre ismert a rating, az már nem érdekli a felhasználót). Az ún. tartalomalapú ajánló rendszerek a termékek tulajdonsági (\"tartalma\") alapján akarják megtanulni, hogy egyetlen felhasználónak mi tetszik. \n",
        "\n",
        "A gépi tanulás egyedei itt egy konkrét felhasználó egy konkrét termékre vonatkozó értékelései. A tanító adatbázisban kizárólag a kérdéses felhasználó korábbi értékelései vannak és a jellemzőkészlet a termékek metaadatai (pl. azt akarjuk megtanulni, hogy X felhasználó azokat a filmeket szereti/nem szereti amelyek A műfajűak és amiben XYZ színész szerepel)"
      ]
    },
    {
      "cell_type": "code",
      "metadata": {
        "id": "JpzMM-0GUzPe"
      },
      "source": [
        "ratings.groupby('userID').size() # találomra válasszunk egy felhasználót akinek sok értékelése van"
      ],
      "execution_count": null,
      "outputs": []
    },
    {
      "cell_type": "code",
      "metadata": {
        "id": "h1B6VJ-uSnsl"
      },
      "source": [
        "df=lens[lens.userID==5] # 5-ös usert akarjuk modellezni\n",
        "df.head()"
      ],
      "execution_count": null,
      "outputs": []
    },
    {
      "cell_type": "code",
      "metadata": {
        "id": "Fubs_bSsc0tc"
      },
      "source": [
        "# 5-ös user értékelései lesznek most a célváltozó\n",
        "df.rating.hist(bins=5)"
      ],
      "execution_count": null,
      "outputs": []
    },
    {
      "cell_type": "code",
      "metadata": {
        "id": "G_zlC9tIY3e4"
      },
      "source": [
        "# Filmműfajok legyenek a jellemzők! Azaz azt akarjuk gépi tanulni, hogy 5-ös user milyen műfajú filmeket (nem) kedvel\n",
        "# A vesszővel elválasztott string-ekből jellemzőket kell gyártanunk.\n",
        "# Legegyszerűbb ha szövegként kezeljük a genre felsorolást és a CountVectorizer megoldja nekünk\n",
        "from sklearn.feature_extraction.text import CountVectorizer\n",
        "count = CountVectorizer() \n",
        "features = count.fit_transform(df.genre)"
      ],
      "execution_count": null,
      "outputs": []
    },
    {
      "cell_type": "code",
      "metadata": {
        "id": "6294Wq8wyEzb"
      },
      "source": [
        "features"
      ],
      "execution_count": null,
      "outputs": []
    },
    {
      "cell_type": "code",
      "metadata": {
        "id": "ipd6lBeqSk1N"
      },
      "source": [
        "# véletlenszerű train/test vágás kiértékelésre\n",
        "from sklearn.model_selection import train_test_split\n",
        "\n",
        "trainFeatures,testFeatures,trainLabels,testLabels = train_test_split(features, df.rating, test_size=.30)\n",
        "trainFeatures.shape # 338 egyed, 20 jellemző (különböző műfajok)"
      ],
      "execution_count": null,
      "outputs": []
    },
    {
      "cell_type": "code",
      "metadata": {
        "id": "aMDsJGFYRFWC"
      },
      "source": [
        "# Regressziós döntési fát érdemes használnunk, hiszen csak 20 bináris jellemzőnk van\n",
        "from sklearn.neighbors import KNeighborsRegressor\n",
        "\n",
        "dt = KNeighborsRegressor(n_neighbors=9) # döntési fa regresszióra\n",
        "dt.fit(trainFeatures, trainLabels) # tanítás a tanító adatbázison\n",
        "prediction = dt.predict(testFeatures) # predikció a teszt adatbázison"
      ],
      "execution_count": null,
      "outputs": []
    },
    {
      "cell_type": "code",
      "metadata": {
        "id": "9yL5_JoLw02K"
      },
      "source": [
        "prediction"
      ],
      "execution_count": null,
      "outputs": []
    },
    {
      "cell_type": "markdown",
      "metadata": {
        "id": "oJPz0VWyFvAm"
      },
      "source": [
        "Regresszió esetén a kiértékelési metrika legtöbbször a [root mean square error (RMSE)](https://en.wikipedia.org/wiki/Root-mean-square_deviation ), ami az igazi és predikált értékek különbségeinek négyzetének összege."
      ]
    },
    {
      "cell_type": "code",
      "metadata": {
        "id": "2Hc6utpazelM"
      },
      "source": [
        "from sklearn.metrics import mean_squared_error # MSE (RMSE végső gyökvonás nélkül)\n",
        "mean_squared_error(prediction, testLabels)"
      ],
      "execution_count": null,
      "outputs": []
    },
    {
      "cell_type": "markdown",
      "metadata": {
        "id": "ZlJX0w0TH1pg"
      },
      "source": [
        "Mennyire jó az ekkora hiba?\n",
        "\n",
        "Számoljuk ki az MSE-t egyszerű (baseline) jóslásra is! Ne felejtsük el, hogy csak akkor tanultunk bármit is, ha egyszerű szabályoknál jobban teljesít a rendszerünk! Az MSE egy hiba, azaz minél kisebb anál jobb."
      ]
    },
    {
      "cell_type": "code",
      "metadata": {
        "id": "TKPXZ2FykH34"
      },
      "source": [
        "from sklearn.dummy import DummyRegressor\n",
        "dummy = DummyRegressor(strategy='mean') # tanító adatbázis címkéinek átlaga lesz mindig a predikció\n",
        "dummy.fit(trainFeatures, trainLabels)\n",
        "mean_squared_error(dummy.predict(testFeatures), testLabels)"
      ],
      "execution_count": null,
      "outputs": []
    },
    {
      "cell_type": "markdown",
      "metadata": {
        "id": "JogPyDYuZhUQ"
      },
      "source": [
        "Regressziós döntési fát ugyanúgy vizualizálhatjuk, mint az osztályozásit."
      ]
    },
    {
      "cell_type": "code",
      "metadata": {
        "id": "auGLM5yPZJVp"
      },
      "source": [
        "!apt-get -qq install -y graphviz && pip install -q pydot #Thank you https://medium.com/deep-learning-turkey/google-colab-free-gpu-tutorial-e113627b9f5d\n",
        "!pip install graphviz"
      ],
      "execution_count": null,
      "outputs": []
    },
    {
      "cell_type": "code",
      "metadata": {
        "id": "SwIFSeVoZTzY"
      },
      "source": [
        "import pydot\n",
        "import graphviz\n",
        "from sklearn import tree\n",
        "\n",
        "graphviz.Source(tree.export_graphviz(dt, out_file=None, feature_names=count.get_feature_names()))"
      ],
      "execution_count": null,
      "outputs": []
    },
    {
      "cell_type": "markdown",
      "metadata": {
        "id": "aiWYwwQZ0abP"
      },
      "source": [
        "Figyeljük meg, hogy a predikció most egy konstans (`value`) minden levélen.\n",
        "Az 5-ös user a drámákat 3.75-re, míg az akciófilmeket 3.0-ra értékeli átlagosan."
      ]
    },
    {
      "cell_type": "markdown",
      "metadata": {
        "id": "LwKxYlonNnk8"
      },
      "source": [
        "## Egy idősor előrejelzési regressziós feladat\n",
        "\n",
        "Az **idősorok** olyan adathalmazok, ahol az időbeliség nagyon fontos, az egyes mérési pontok egy időpillanathoz köthetőek. Idősorokat leggyakrabban azért elemzünk, hogy:\n",
        "\n",
        "*   Előrejelzzünk jövőbeli értékeket, mint például meteorológia vagy\n",
        "*   hasonló idősorokat keresssünk (például kik azok a sessionök egy weboldalon, akik az aktuális sessionhöz hasonló kattintássorozaton mentek át) vagy \n",
        "*   milyen hosszútávú trendek és szezonalitás figyelhető meg az adatsorban."
      ]
    },
    {
      "cell_type": "markdown",
      "metadata": {
        "id": "gKPb7ujaMnlM"
      },
      "source": [
        "Töltsünk le egy idősort a [Google Trends](https://trends.google.com/trends/explore?date=all&q=aj%C3%A1nd%C3%A9k)ből! Ez azt mutatja meg, hogy az \"ajándék\" szóra hogyan alakult a keresések száma ([0-100]ra normalizált érték) egy adott hónapban a Google Searchben.\n",
        "\n",
        "(lásd ezt a [cikket](https://towardsdatascience.com/3-ways-to-load-csv-files-into-colab-7c14fcbdcb92), hogy hogyan lehet egy lokális fájlt a colabon használni)"
      ]
    },
    {
      "cell_type": "code",
      "metadata": {
        "id": "eARn40NZMi_Z"
      },
      "source": [
        "import pandas as pd\n",
        "df = pd.read_csv(\"multiTimeline.csv\")\n",
        "df.head()"
      ],
      "execution_count": null,
      "outputs": []
    },
    {
      "cell_type": "code",
      "metadata": {
        "id": "CFu7DMRwS_2F"
      },
      "source": [
        "df.shape"
      ],
      "execution_count": null,
      "outputs": []
    },
    {
      "cell_type": "markdown",
      "metadata": {
        "id": "TP0pFTnsTWy-"
      },
      "source": [
        "Nem jó a beolvasás mert csak 1 oszlopunk lett. Érdemes a csv-t megnyitni mielőtt beolvassuk, hogy ellenőrízzük a szerkezetét..."
      ]
    },
    {
      "cell_type": "code",
      "metadata": {
        "id": "j2MWGzRZTJaH"
      },
      "source": [
        "# hagyjuk ki az első 3 sort és adjunk könnyen kezelhető neveket az oszlopoknak:\n",
        "df = pd.read_csv(\"multiTimeline.csv\", skiprows=3, names=['time','data'])\n",
        "df.head()"
      ],
      "execution_count": null,
      "outputs": []
    },
    {
      "cell_type": "code",
      "metadata": {
        "id": "O4SqFpqQTri0"
      },
      "source": [
        "df.shape"
      ],
      "execution_count": null,
      "outputs": []
    },
    {
      "cell_type": "code",
      "metadata": {
        "id": "lSVXCXJHTvS8"
      },
      "source": [
        "# Jelenleg a time oszlopunk csak string. Konvertáljuk át igazi dátum típussá:\n",
        "df.time = pd.to_datetime(df.time)\n",
        "print(df.time.min() , \"\\n\" , df.time.max())"
      ],
      "execution_count": null,
      "outputs": []
    },
    {
      "cell_type": "code",
      "metadata": {
        "id": "B7Hhw22jVC4N"
      },
      "source": [
        "# ha az idő lesz az index (\"sorok nevei\") akkor könnyebben tudjuk majd használni a dataframe-et:\n",
        "df = df.set_index('time')\n",
        "df.head()"
      ],
      "execution_count": null,
      "outputs": []
    },
    {
      "cell_type": "code",
      "metadata": {
        "id": "P7gs2X4BWt0w"
      },
      "source": [
        "# például a vizualizáció egyszerű:\n",
        "df.plot(figsize=(15, 6)) # figsize-al jobban látható az ábra"
      ],
      "execution_count": null,
      "outputs": []
    },
    {
      "cell_type": "code",
      "metadata": {
        "id": "krAb8CWOX--T"
      },
      "source": [
        "# zoomoljunk az utolsó három évre\n",
        "df.loc['2017-04-20':].plot() # vegyük észre, hogy 2017-04-20 dátum nincs benne, tényleg, mint időpont kezeli az adatokat"
      ],
      "execution_count": null,
      "outputs": []
    },
    {
      "cell_type": "markdown",
      "metadata": {
        "id": "oI3YFaM6dWG4"
      },
      "source": [
        "Az idősor előrejelzés célja, hogy jövőbeli adatpontok értékét megjósoljuk a múltbeli adatok, összefüggések felhasználásával. Ez egy speciális regressziós feladat.\n",
        "\n",
        "A problémát fel lehet fogni gépi tanulási regressziós feladatként is. Itt ha a `t` időpontban vagyunk:\n",
        "\n",
        "*   egy egyed egy adatpont amire jósolni szeretnénk (pl. t+1 időpont)\n",
        "*   jellemzőket az idősor `t` időpontot megelöző részéből nyerhetünk ki (plusz az idősoron kívüli információk)\n",
        "*   regressziós problémaként fogjuk fel, a múlbeli `t` időpontok egyedein tanítunk egy gépi tanuló modellt és predikálunk a jövőre vonatkozólag\n"
      ]
    },
    {
      "cell_type": "code",
      "metadata": {
        "id": "enM1AYl0aEY6"
      },
      "source": [
        "# Egy előrejelzési 'egyed' vizualizációja\n",
        "\n",
        "from dateutil.relativedelta import relativedelta\n",
        "\n",
        "t = pd.to_datetime('2018-04-01') # tfh itt vagyunk az időben \n",
        "known = df.loc[t-relativedelta(years=3) : t-relativedelta(months=1)] # 3 éves múlt\n",
        "unknown = df.loc[t-relativedelta(months=1) : t+relativedelta(years=1)] # 1 éves jövő t-től, nem ismerjük\n",
        "to_predict = df.loc[t:t] # erre a pontra akarunk jósolni\n",
        "\n",
        "import matplotlib.pyplot as plt\n",
        "fig, ax = plt.subplots(figsize=(15, 6))\n",
        "known.plot(ax=ax, c='c', marker='o', zorder=3) # ismert múlt = egyedet leíró jellemzők\n",
        "unknown.plot(ax=ax, c='grey', alpha=0.5) # jövő amit ismeretlennek tekintünk\n",
        "to_predict.plot(ax=ax, c='r', marker='o', markersize=16, \n",
        "                linestyle='') # predikálandó/előrejelzendő folytonos célértékek\n",
        "\n",
        "ax.legend(['múlt', 'jövő', 'predikálandó'])\n",
        "plt.show()\n"
      ],
      "execution_count": null,
      "outputs": []
    },
    {
      "cell_type": "code",
      "metadata": {
        "id": "fUgvpbzrxXAm"
      },
      "source": [
        "### 8db előrejelzési egyed vizualizációja \n",
        "### Az így gyártott egyedeket alkotják majd a tanító és kiértékelő adatbázist a gépi tanuláshoz\n",
        "\n",
        "fig, ax = plt.subplots(figsize=(12, 9))\n",
        "\n",
        "full = df.loc['2017-02-01':'2020-04-01']\n",
        "\n",
        "for i in range(8):\n",
        "    t = pd.to_datetime('2019-03-01') + relativedelta(months=i)\n",
        "    predict = df.loc[t : t]\n",
        "    known = df.loc[t-relativedelta(years=2) : t-relativedelta(months=1)] # 2 éves múlt\n",
        "\n",
        "    (full + 20*i).plot(ax=ax, c='grey', alpha=0.5);\n",
        "    (known + 20*i).plot(ax=ax, c='c', markersize=4,\n",
        "                       marker='o')\n",
        "    (predict + 20*i).plot(ax=ax, c='r', markersize=8,\n",
        "                         marker='o', linestyle='')\n",
        "\n",
        "ax.get_yaxis().set_ticks([]) # y tengely értékkészletének most nincs értelme, kikapcsoljuk\n",
        "ax.legend(['teljes idősor', 'jellemzők', 'célváltozó'], bbox_to_anchor=(1, 1))\n"
      ],
      "execution_count": null,
      "outputs": []
    },
    {
      "cell_type": "code",
      "metadata": {
        "id": "NfM-W1Ma4T8g"
      },
      "source": [
        "### jellemzőkinyerés\n",
        "\n",
        "target_values = [] # regresszió célváltozója (címke/label)\n",
        "features = [] # egyedek jellemzői\n",
        "\n",
        "t = df.index.min() + relativedelta(years=3)\n",
        "while t < df.index.max():\n",
        "  target_values.append( df.loc[t : t].data ) # célváltozó a t időpontbeli érték\n",
        "  \n",
        "  known = df.loc[t-relativedelta(years=3) : t-relativedelta(months=1)] # 3 éves múlt\n",
        "  features.append( known.data.tolist() ) # az elmúlt 36 hónap értékei lesznek a 36 jellemző\n",
        "\n",
        "  t = t + relativedelta(months=1)\n",
        "\n",
        "len(features) # ennyi egyedünk van"
      ],
      "execution_count": null,
      "outputs": []
    },
    {
      "cell_type": "code",
      "metadata": {
        "id": "LDbzV2Kh9p_E"
      },
      "source": [
        "### tanító és kiértékelő adatbázisra vágjuk\n",
        "### nagyon vigyázunk arra, hogy a kiértékelő adatbázisbeli egyedekről ne tudjunk meg információt a tanító adatbázisbeli elemekből\n",
        "### időben vágás a \"legbiztonságosabb\", értékeljünk ki az időben utolsó 30 ponton!\n",
        "\n",
        "trainFeatures = features[:-30]\n",
        "testFeatures  = features[-30:]\n",
        "trainLabels = target_values[:-30]\n",
        "testLabels  = target_values[-30:]"
      ],
      "execution_count": null,
      "outputs": []
    },
    {
      "cell_type": "code",
      "metadata": {
        "id": "Xh2DIAms6qCW"
      },
      "source": [
        "### regressziós gépi tanulási kísérlet\n",
        "from sklearn.linear_model import LinearRegression\n",
        "\n",
        "reg = LinearRegression() # lineáris gép regresszióra\n",
        "reg.fit(trainFeatures, trainLabels)\n",
        "prediction = reg.predict(testFeatures)\n",
        "\n",
        "from sklearn.metrics import mean_squared_error # MSE\n",
        "mean_squared_error(prediction, testLabels)"
      ],
      "execution_count": null,
      "outputs": []
    },
    {
      "cell_type": "code",
      "metadata": {
        "id": "sNm1_q8K6Niw"
      },
      "source": [
        "# A baseline itt most nagyon rosszul teljesít!\n",
        "dummy = DummyRegressor(strategy='mean') # tanító adatbázis címkéinek átlaga lesz mindig a predikció\n",
        "dummy.fit(trainFeatures, trainLabels)\n",
        "mean_squared_error(dummy.predict(testFeatures), testLabels)"
      ],
      "execution_count": null,
      "outputs": []
    },
    {
      "cell_type": "code",
      "metadata": {
        "id": "OqgVfVeS_IMU"
      },
      "source": [
        "### vizualizáljuk a predikciót\n",
        "\n",
        "fig, ax = plt.subplots(figsize=(18, 6))\n",
        "plt.plot(range(0,len(trainLabels)), trainLabels, c='grey', alpha=0.5)\n",
        "testrange = range(len(trainLabels)-1,len(trainLabels)+len(testLabels)-1)\n",
        "plt.plot(testrange, testLabels, c='c', marker='o')\n",
        "plt.plot(testrange, prediction, c='r', marker='o')\n",
        "ax.legend(['múlt', 'jövőbeli tényleges', 'predikció'])\n",
        "plt.show()"
      ],
      "execution_count": null,
      "outputs": []
    },
    {
      "cell_type": "markdown",
      "metadata": {
        "id": "6c2Xnqu9En5i"
      },
      "source": [
        "# Gyakorló feladat\n",
        "\n",
        "Az https://archive.ics.uci.edu/ml/machine-learning-databases/00432/Data/News_Final.csv adatbázis tartalmazza (többek közt), hogy egy megjelent újságcikket, a rákövetkező héten hányan likeoltak a Facebookon. Hajts végre egy gépi tanulási kísérletet, hogy megtudjuk, hogy a `headline` szövege és a `source` alapján mennyire jól lehet megjósolni a `Facebook` likeok számát!\n",
        "\n",
        "Csak azokat a cikkeket használd, ahol pozitív a `Facebook` likeok száma! Tanító adatbázisnak használd a 2016 máriusáig megjelent (`PublishDate`) cikkeket és értékeld ki a 2016. ápr 1. utáni cikkeken!\n",
        "\n",
        "Vigyázz, mert 93K egyedes adatbázis! Tipp: szűrd meg a tanító adatbázist vagy az egyedek számát, vagy a jellemzőteret (szózsák modell esetén lásd a `CountVectorizer` `min_df` argumentumát) érdemes csökkenteni!"
      ]
    }
  ]
}