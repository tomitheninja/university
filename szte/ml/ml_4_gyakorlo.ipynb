{
  "nbformat": 4,
  "nbformat_minor": 0,
  "metadata": {
    "colab": {
      "provenance": []
    },
    "kernelspec": {
      "name": "python3",
      "display_name": "Python 3"
    }
  },
  "cells": [
    {
      "cell_type": "markdown",
      "metadata": {
        "id": "ciKBEGatAO10"
      },
      "source": [
        "# Gyakorló fealdatok\n",
        "\n",
        "1. Hajts végre egy osztályozási feladatot a [survey adatbázison](https://stat.ethz.ch/R-manual/R-devel/library/MASS/html/survey.html)"
      ]
    },
    {
      "cell_type": "code",
      "metadata": {
        "id": "2cr0YXdgAhsi"
      },
      "source": [
        "import pandas as pd\n",
        "df = pd.read_csv(\"https://raw.github.com/vincentarelbundock/Rdatasets/master/csv/MASS/survey.csv\")\n",
        "df.head()"
      ],
      "execution_count": null,
      "outputs": []
    },
    {
      "cell_type": "code",
      "metadata": {
        "id": "C5IYbRPlA7Kb"
      },
      "source": [
        "df.shape"
      ],
      "execution_count": null,
      "outputs": []
    },
    {
      "cell_type": "markdown",
      "metadata": {
        "id": "AuTyEyPPAYhj"
      },
      "source": [
        "ahol azt akarjuk predikálni, hogy kézkulcsolásnál melyik kéz van felül (`Fold`), az összes többi oszlop, mint jellemző alapján!"
      ]
    },
    {
      "cell_type": "code",
      "metadata": {
        "id": "Aq6ti9fwBH5f"
      },
      "source": [
        "# Osztálycímke:\n",
        "classlabel = df.Fold \n",
        "# Jellemzőtér:\n",
        "features = df.drop('Fold',axis=1) # a drop() eltávolít egy oszlopot (ha axis=1), létrehoz egy új dataframe-et"
      ],
      "execution_count": null,
      "outputs": []
    },
    {
      "cell_type": "code",
      "metadata": {
        "id": "-T8JGIYuCw9z"
      },
      "source": [
        "### Diszkrét jellemzők átkonvertálása\n",
        "from sklearn import preprocessing\n",
        "ohe = preprocessing.OneHotEncoder() # one hot encoding \n",
        "ohe_features = ohe.fit_transform(features) "
      ],
      "execution_count": null,
      "outputs": []
    },
    {
      "cell_type": "code",
      "metadata": {
        "id": "miob-vQtEIQP"
      },
      "source": [
        "# 'Input contains NaN', valamit kezdenünk kell a NaNokkal\n",
        "df.dropna().shape "
      ],
      "execution_count": null,
      "outputs": []
    },
    {
      "cell_type": "code",
      "metadata": {
        "id": "M4B7OSNvEecM"
      },
      "source": [
        "# 168 példánk marad ha töröljük a NaNt tartalmazó sorokat\n",
        "classlabel = df.dropna().Clap \n",
        "features = df.dropna().drop('Clap',axis=1)"
      ],
      "execution_count": null,
      "outputs": []
    },
    {
      "cell_type": "code",
      "metadata": {
        "id": "ug1xfW3UExFk"
      },
      "source": [
        "# így már lefut a one hot encoder\n",
        "ohe_features = ohe.fit_transform(features)"
      ],
      "execution_count": null,
      "outputs": []
    },
    {
      "cell_type": "code",
      "metadata": {
        "id": "AqYCun2_DNlS"
      },
      "source": [
        "### döntési fa osztályozót használunk\n",
        "from sklearn import tree\n",
        "dt = tree.DecisionTreeClassifier() "
      ],
      "execution_count": null,
      "outputs": []
    },
    {
      "cell_type": "code",
      "metadata": {
        "id": "0rVT7mtjDWrn"
      },
      "source": [
        "### Tanító- és kiértékelő adatbázisra bontás\n",
        "# legyen a tanító adatbázis az első 120 elem, a többi a kiértékelő adatbázis\n",
        "train_features = ohe_features[:120]\n",
        "train_labels = classlabel[:120]\n",
        "test_features = ohe_features[120:]\n",
        "test_labels = classlabel[120:]"
      ],
      "execution_count": null,
      "outputs": []
    },
    {
      "cell_type": "code",
      "metadata": {
        "id": "VoRw4WVfAKeC"
      },
      "source": [
        "dt.fit(train_features, train_labels) # tanítás a tanító adatbázison\n",
        "prediction = dt.predict(test_features) # predikció a kiértékelő adatbázison"
      ],
      "execution_count": null,
      "outputs": []
    },
    {
      "cell_type": "code",
      "metadata": {
        "id": "HkrmG2UUGFpm"
      },
      "source": [
        "### Kiértékelés találati aránnyal (accuracy)\n",
        "from sklearn.metrics import accuracy_score\n",
        "accuracy_score(prediction, test_labels)"
      ],
      "execution_count": null,
      "outputs": []
    },
    {
      "cell_type": "code",
      "metadata": {
        "id": "CpERRuTAGaFc"
      },
      "source": [
        "### Mindig hasonlítsuk eredményeinket baseline szabályhoz!\n",
        "from sklearn.dummy import DummyClassifier\n",
        "dummy_clf = DummyClassifier(strategy=\"most_frequent\")\n",
        "dummy_clf.fit(train_features, train_labels)\n",
        "baseline_prediction = dummy_clf.predict(test_features)\n",
        "accuracy_score(baseline_prediction, test_labels)"
      ],
      "execution_count": null,
      "outputs": []
    },
    {
      "cell_type": "markdown",
      "metadata": {
        "id": "Fiaq7k6QAaOJ"
      },
      "source": [
        "2. Értékeld ki az legfeljebb 1, 2, 3 mélységűre korlátozott döntési fákat is!"
      ]
    },
    {
      "cell_type": "code",
      "metadata": {
        "id": "Iy_3PqU2HUWE"
      },
      "source": [
        "for d in range(1,4):\n",
        "  dt = tree.DecisionTreeClassifier() # fa mélységkorlátozással\n",
        "  dt.fit(train_features, train_labels)\n",
        "  prediction = dt.predict(test_features)\n",
        "  print(d,\":\",accuracy_score(prediction, test_labels))"
      ],
      "execution_count": null,
      "outputs": []
    }
  ]
}